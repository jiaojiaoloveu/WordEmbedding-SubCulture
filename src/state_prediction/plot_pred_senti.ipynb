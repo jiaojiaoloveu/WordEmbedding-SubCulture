{
 "cells": [
  {
   "cell_type": "code",
   "execution_count": 1,
   "metadata": {},
   "outputs": [],
   "source": [
    "import os\n",
    "import json"
   ]
  },
  {
   "cell_type": "code",
   "execution_count": 2,
   "metadata": {},
   "outputs": [
    {
     "data": {
      "text/plain": [
       "'/home/jyuwei/code/WordEmbedding-SubCulture/src/state_prediction'"
      ]
     },
     "execution_count": 2,
     "metadata": {},
     "output_type": "execute_result"
    }
   ],
   "source": [
    "%pwd"
   ]
  },
  {
   "cell_type": "code",
   "execution_count": 3,
   "metadata": {},
   "outputs": [],
   "source": [
    "os.chdir('..')"
   ]
  },
  {
   "cell_type": "code",
   "execution_count": 4,
   "metadata": {},
   "outputs": [
    {
     "data": {
      "text/plain": [
       "'/home/jyuwei/code/WordEmbedding-SubCulture/src'"
      ]
     },
     "execution_count": 4,
     "metadata": {},
     "output_type": "execute_result"
    }
   ],
   "source": [
    "%pwd"
   ]
  },
  {
   "cell_type": "code",
   "execution_count": 8,
   "metadata": {},
   "outputs": [],
   "source": [
    "with open('../result/state_prediction/svo_senti_epa', 'r') as fp:\n",
    "    epa = json.load(fp)"
   ]
  },
  {
   "cell_type": "code",
   "execution_count": 10,
   "metadata": {},
   "outputs": [],
   "source": [
    "with open('../result/state_prediction/svo_senti_github', 'r') as fp:\n",
    "    github = json.load(fp)"
   ]
  },
  {
   "cell_type": "code",
   "execution_count": 14,
   "metadata": {},
   "outputs": [],
   "source": [
    "events = set(github.keys()) & set(epa.keys())"
   ]
  },
  {
   "cell_type": "code",
   "execution_count": 15,
   "metadata": {},
   "outputs": [
    {
     "name": "stdout",
     "output_type": "stream",
     "text": [
      "{\"['balloon', 'fire', 'balloon']\", \"['helping', 'helping', 'blind']\", \"['bomb', 'killed', 'car']\", \"['release', 'release', 'release']\", \"['dead', 'blast', 'pipeline']\", \"['winter', 'led', 'dish']\", \"['activist', 'disturbance', 'charge']\", \"['submarine', 'fire', 'fire']\", \"['opera', 'loving', 'delivers']\", \"['president', 'leave', 'owner']\", \"['woman', 'attack', 'duck']\", \"['bond', 'restructuring', 'set']\", \"['plant', 'perform', 'ritual']\", \"['crashed', 'crashed', 'coast']\", \"['anniversary', 'sweet', 'anniversary']\", \"['tomato', 'fight', 'embargo']\", \"['party', 'maintain', 'limit']\", \"['warming', 'pause', 'debate']\", \"['rigorous', 'test', 'disorder']\", \"['chief', 'intelligence', 'staying']\", \"['announcement', 'flee', 'league']\", \"['family', 'united', 'fight']\", \"['senior', 'kicked', 'prom']\", \"['leader', 'arrested', 'murder']\", \"['plane', 'smoke', 'cockpit']\", \"['signal', 'willingness', 'negotiate']\", \"['architect', 'replaced', 'policy']\", \"['personal', 'instead', 'property']\", \"['couple', 'still', 'couple']\", \"['police', 'probe', 'death']\", \"['cocoa', 'blood', 'brain']\", \"['vote', 'vote', 'vote']\", \"['party', 'control', 'drunk']\", \"['president', 'fire', 'fire']\", \"['four', 'killed', 'four']\", \"['leader', 'agrees', 'president']\", \"['invest', 'invest', 'over']\", \"['teacher', 'arrested', 'student']\", \"['egg', 'risk', 'dog']\", \"['colony', 'receives', 'human']\", \"['case', 'leave', 'hospital']\", \"['corn', 'change', 'diet']\", \"['jump', 'jump', 'tallest']\", \"['army', 'say', 'cede']\", \"['violence', 'worsens', 'west']\", \"['judge', 'struck', 'judge']\", \"['statement', 'following', 'statement']\", \"['plane', 'assessed', 'assessed']\", \"['peace', 'brings', 'development']\", \"['consumer', 'win', 'death']\", \"['man', 'stuck', 'building']\", \"['diplomat', 'injured', 'attempt']\", \"['minister', 'dismissed', 'speaker']\", \"['three', 'killed', 'three']\", \"['collision', 'collision', 'several']\", \"['change', 'causing', 'instinct']\", \"['passenger', 'passenger', 'killing']\", \"['eye', 'eye', 'quarter']\", \"['daughter', 'died', 'mother']\", \"['record', 'new', 'record']\", \"['profit', 'profit', 'profit']\", \"['gold', 'nugget', 'discovered']\", \"['commander', 'dead', 'strike']\", \"['court', 'allows', 'testimony']\", \"['woman', 'death', 'death']\", \"['victim', 'pay', 'crash']\", \"['claim', 'claim', 'claim']\", \"['military', 'soldier', 'soldier']\", \"['chief', 'wounded', 'attack']\", \"['found', 'missing', 'ship']\", \"['chief', 'deposited', 'account']\", \"['family', 'crash', 'death']\", \"['police', 'ponder', 'soldier']\", \"['student', 'joy', 'college']\", \"['group', 'attacked', 'saw']\", \"['school', 'killing', 'girlfriend']\", \"['government', 'inherit', 'economy']\"}\n"
     ]
    }
   ],
   "source": [
    "len(events)\n",
    "print(events)"
   ]
  },
  {
   "cell_type": "code",
   "execution_count": 16,
   "metadata": {},
   "outputs": [
    {
     "data": {
      "text/plain": [
       "[[['defensive', 1.2365683002184016],\n",
       "  ['sorry', 1.6298848697923558],\n",
       "  ['cautious', 1.8757824854011094],\n",
       "  ['aggressive', 2.3539627730154873],\n",
       "  ['nervous', 2.6138005068298926],\n",
       "  ['careless', 2.7241179711438543],\n",
       "  ['thanks', 3.1563439103167115],\n",
       "  ['calm', 3.634831116312256],\n",
       "  ['happy', 4.0226868881612],\n",
       "  ['angry', 4.331559821613977]],\n",
       " [['sorry', 0.9693750630052828],\n",
       "  ['careless', 1.1188894412494412],\n",
       "  ['nervous', 1.8181196222209266],\n",
       "  ['defensive', 2.135389242108778],\n",
       "  ['aggressive', 2.477632123447923],\n",
       "  ['angry', 2.9343157964543494],\n",
       "  ['cautious', 3.116357142984863],\n",
       "  ['thanks', 4.607817240043436],\n",
       "  ['calm', 5.115014242601914],\n",
       "  ['happy', 5.286437047772229]],\n",
       " [['defensive', 1.3633516977293014],\n",
       "  ['sorry', 1.4578936637649693],\n",
       "  ['cautious', 2.250939146673451],\n",
       "  ['careless', 2.2768776755192492],\n",
       "  ['aggressive', 2.279064555964666],\n",
       "  ['nervous', 2.6223730121773867],\n",
       "  ['thanks', 3.744133300698394],\n",
       "  ['angry', 3.987256712962253],\n",
       "  ['calm', 4.167139198214014],\n",
       "  ['happy', 4.495665832172642]],\n",
       " [['nervous', 1.7056469869066542],\n",
       "  ['careless', 2.448180695988962],\n",
       "  ['sorry', 2.454165575266125],\n",
       "  ['angry', 2.6758055909049685],\n",
       "  ['aggressive', 3.4559970539542917],\n",
       "  ['defensive', 3.721003110787727],\n",
       "  ['cautious', 4.411994402323398],\n",
       "  ['thanks', 5.499238502446865],\n",
       "  ['happy', 5.992499181665244],\n",
       "  ['calm', 6.127124629812074]]]"
      ]
     },
     "execution_count": 16,
     "metadata": {},
     "output_type": "execute_result"
    }
   ],
   "source": [
    "epa[\"['victim', 'pay', 'crash']\"]"
   ]
  },
  {
   "cell_type": "code",
   "execution_count": 17,
   "metadata": {},
   "outputs": [
    {
     "data": {
      "text/plain": [
       "[[['cautious', 1.4981968948901723],\n",
       "  ['sorry', 1.5440182926018446],\n",
       "  ['angry', 1.5522396049495018],\n",
       "  ['nervous', 1.5584394786953728],\n",
       "  ['careless', 1.5655385314900294],\n",
       "  ['defensive', 1.756534553903008],\n",
       "  ['aggressive', 1.8941845594006965],\n",
       "  ['calm', 2.0853149832265214],\n",
       "  ['thanks', 2.148077958649516],\n",
       "  ['happy', 3.276355159733069]],\n",
       " [['sorry', 1.3765564297131951],\n",
       "  ['cautious', 1.4883904032614974],\n",
       "  ['careless', 1.5326705234870277],\n",
       "  ['angry', 1.566326122848087],\n",
       "  ['nervous', 1.5823902047752183],\n",
       "  ['defensive', 1.7099413341789225],\n",
       "  ['thanks', 1.9170624200014426],\n",
       "  ['aggressive', 1.9239835917836194],\n",
       "  ['calm', 1.9809904249084118],\n",
       "  ['happy', 3.0479239349103624]],\n",
       " [['sorry', 1.7773717000995202],\n",
       "  ['thanks', 1.934218663125462],\n",
       "  ['careless', 2.1805144931622142],\n",
       "  ['cautious', 2.184149101531576],\n",
       "  ['angry', 2.208837331465839],\n",
       "  ['nervous', 2.2797668366766652],\n",
       "  ['defensive', 2.394513947641491],\n",
       "  ['calm', 2.396636129655416],\n",
       "  ['aggressive', 2.648334016149093],\n",
       "  ['happy', 2.842431541493826]],\n",
       " [['sorry', 1.4332275102854497],\n",
       "  ['thanks', 1.6334684923345282],\n",
       "  ['careless', 1.8867228672612495],\n",
       "  ['cautious', 1.9089595412883729],\n",
       "  ['angry', 1.9346068877072242],\n",
       "  ['nervous', 2.0193557199490884],\n",
       "  ['calm', 2.06435714556036],\n",
       "  ['defensive', 2.0985194151341946],\n",
       "  ['aggressive', 2.3930443977675084],\n",
       "  ['happy', 2.622744339180655]]]"
      ]
     },
     "execution_count": 17,
     "metadata": {},
     "output_type": "execute_result"
    }
   ],
   "source": [
    "github[\"['victim', 'pay', 'crash']\"]"
   ]
  },
  {
   "cell_type": "code",
   "execution_count": 18,
   "metadata": {},
   "outputs": [
    {
     "data": {
      "text/plain": [
       "[[['defensive', 1.1238764902986542],\n",
       "  ['aggressive', 1.448832175561719],\n",
       "  ['cautious', 1.686749830169496],\n",
       "  ['sorry', 1.9926029503352094],\n",
       "  ['nervous', 2.9323748476374782],\n",
       "  ['careless', 3.1506628835203534],\n",
       "  ['thanks', 3.1692769617878884],\n",
       "  ['happy', 3.5636880109431037],\n",
       "  ['calm', 3.5704127955455744],\n",
       "  ['angry', 4.322712040063483]],\n",
       " [['sorry', 0.9032006142308753],\n",
       "  ['aggressive', 0.943740350052857],\n",
       "  ['defensive', 1.0651906113284193],\n",
       "  ['nervous', 1.575643953205575],\n",
       "  ['cautious', 1.8552392516042662],\n",
       "  ['careless', 2.393964287428972],\n",
       "  ['thanks', 3.2713505944115906],\n",
       "  ['angry', 3.4295811512088084],\n",
       "  ['happy', 3.729111978803178],\n",
       "  ['calm', 3.8591601783476586]],\n",
       " [['aggressive', 1.0723044112712599],\n",
       "  ['sorry', 1.1222020499471974],\n",
       "  ['defensive', 1.3827993956060196],\n",
       "  ['nervous', 1.4622317651879095],\n",
       "  ['cautious', 2.0167187598526612],\n",
       "  ['careless', 2.5419917721675342],\n",
       "  ['thanks', 3.297393693216187],\n",
       "  ['angry', 3.411909008565386],\n",
       "  ['happy', 3.708962681838396],\n",
       "  ['calm', 3.915583823550519]],\n",
       " [['careless', 1.264265615466039],\n",
       "  ['sorry', 1.9989699585375273],\n",
       "  ['nervous', 2.2520956728399195],\n",
       "  ['angry', 2.875866059195964],\n",
       "  ['defensive', 3.289327241965071],\n",
       "  ['aggressive', 3.5849259537329194],\n",
       "  ['cautious', 4.203379102188296],\n",
       "  ['thanks', 5.5764079180220145],\n",
       "  ['calm', 6.0982831797907595],\n",
       "  ['happy', 6.3180701505652275]]]"
      ]
     },
     "execution_count": 18,
     "metadata": {},
     "output_type": "execute_result"
    }
   ],
   "source": [
    "epa[\"['family', 'crash', 'death']\"]"
   ]
  },
  {
   "cell_type": "code",
   "execution_count": 19,
   "metadata": {},
   "outputs": [
    {
     "data": {
      "text/plain": [
       "[[['cautious', 1.1332215684833682],\n",
       "  ['nervous', 1.1821430141214058],\n",
       "  ['angry', 1.2503936960659117],\n",
       "  ['careless', 1.2593472866947542],\n",
       "  ['defensive', 1.3894255506595863],\n",
       "  ['aggressive', 1.4643313323809493],\n",
       "  ['sorry', 1.4895744824179749],\n",
       "  ['calm', 1.9619017859737098],\n",
       "  ['thanks', 2.2757647645180743],\n",
       "  ['happy', 3.477006149063358]],\n",
       " [['sorry', 1.3393208030514545],\n",
       "  ['cautious', 1.573854889950557],\n",
       "  ['careless', 1.5985489924592822],\n",
       "  ['angry', 1.6503239996846901],\n",
       "  ['nervous', 1.681233420379803],\n",
       "  ['defensive', 1.7761381094710493],\n",
       "  ['thanks', 1.797031932982082],\n",
       "  ['calm', 1.974130628488709],\n",
       "  ['aggressive', 2.028550860238029],\n",
       "  ['happy', 2.9074339402768246]],\n",
       " [['cautious', 1.343001804880193],\n",
       "  ['nervous', 1.3965765381676927],\n",
       "  ['angry', 1.422294501857815],\n",
       "  ['careless', 1.4371247215508338],\n",
       "  ['sorry', 1.5278267903191105],\n",
       "  ['defensive', 1.6052790321216512],\n",
       "  ['aggressive', 1.7114627126923683],\n",
       "  ['calm', 2.04420850198323],\n",
       "  ['thanks', 2.218765204449018],\n",
       "  ['happy', 3.3837560565947076]],\n",
       " [['sorry', 1.2576488706582265],\n",
       "  ['thanks', 1.6095675035842936],\n",
       "  ['careless', 1.643129092918607],\n",
       "  ['cautious', 1.6648559178457587],\n",
       "  ['angry', 1.6796447049231482],\n",
       "  ['nervous', 1.7694586953646927],\n",
       "  ['calm', 1.861275707868748],\n",
       "  ['defensive', 1.863510601292209],\n",
       "  ['aggressive', 2.146664341211708],\n",
       "  ['happy', 2.670769539402133]]]"
      ]
     },
     "execution_count": 19,
     "metadata": {},
     "output_type": "execute_result"
    }
   ],
   "source": [
    "github[\"['family', 'crash', 'death']\"]"
   ]
  },
  {
   "cell_type": "code",
   "execution_count": 24,
   "metadata": {},
   "outputs": [
    {
     "data": {
      "text/plain": [
       "[[['happy', 2.0184367979401214],\n",
       "  ['thanks', 2.6447244890163453],\n",
       "  ['cautious', 3.0278153017573777],\n",
       "  ['calm', 3.103802608462767],\n",
       "  ['aggressive', 3.188561001425092],\n",
       "  ['defensive', 3.5880542868361784],\n",
       "  ['sorry', 4.400493462149722],\n",
       "  ['nervous', 4.442138989572255],\n",
       "  ['careless', 5.811755716768772],\n",
       "  ['angry', 6.194713033308307]],\n",
       " [['thanks', 1.576519153214245],\n",
       "  ['cautious', 1.8329099739827917],\n",
       "  ['happy', 1.9301209721307855],\n",
       "  ['calm', 2.1906009825554213],\n",
       "  ['defensive', 2.4411834604667595],\n",
       "  ['aggressive', 2.745443570972814],\n",
       "  ['sorry', 3.448599678658058],\n",
       "  ['nervous', 3.7997823024231954],\n",
       "  ['careless', 4.896256886509494],\n",
       "  ['angry', 5.777251482906819]],\n",
       " [['happy', 1.8532348866654371],\n",
       "  ['thanks', 2.120781192617884],\n",
       "  ['cautious', 2.3426827621133586],\n",
       "  ['calm', 2.6804163602454087],\n",
       "  ['aggressive', 2.6834647261171565],\n",
       "  ['defensive', 2.8873227697061146],\n",
       "  ['sorry', 3.746858021910187],\n",
       "  ['nervous', 3.893894339569125],\n",
       "  ['careless', 5.187305709234714],\n",
       "  ['angry', 5.756030299274777]],\n",
       " [['happy', 2.5052699421659983],\n",
       "  ['thanks', 2.865915997038912],\n",
       "  ['aggressive', 2.8664223763951986],\n",
       "  ['cautious', 2.956880307738132],\n",
       "  ['defensive', 3.3444403327451875],\n",
       "  ['calm', 3.417411356710083],\n",
       "  ['nervous', 3.8508623815170715],\n",
       "  ['sorry', 3.927250480055295],\n",
       "  ['careless', 5.284034190211712],\n",
       "  ['angry', 5.608526306121547]]]"
      ]
     },
     "execution_count": 24,
     "metadata": {},
     "output_type": "execute_result"
    }
   ],
   "source": [
    "epa[\"['opera', 'loving', 'delivers']\"]"
   ]
  },
  {
   "cell_type": "code",
   "execution_count": 23,
   "metadata": {},
   "outputs": [
    {
     "data": {
      "text/plain": [
       "[[['thanks', 2.070129196233261],\n",
       "  ['sorry', 2.145873870428803],\n",
       "  ['careless', 2.6582817819398814],\n",
       "  ['cautious', 2.6704549731950125],\n",
       "  ['angry', 2.7118791706895857],\n",
       "  ['nervous', 2.7809145548112446],\n",
       "  ['happy', 2.7966919998691977],\n",
       "  ['calm', 2.7974696210170906],\n",
       "  ['defensive', 2.8573076007569718],\n",
       "  ['aggressive', 3.1450535922419562]],\n",
       " [['thanks', 2.0683879815697472],\n",
       "  ['sorry', 2.224691341685626],\n",
       "  ['happy', 2.7086995520836705],\n",
       "  ['careless', 2.7787492263681015],\n",
       "  ['cautious', 2.8061193210520043],\n",
       "  ['angry', 2.828290046163],\n",
       "  ['calm', 2.85286480146855],\n",
       "  ['nervous', 2.9159122874974135],\n",
       "  ['defensive', 2.9897538401382238],\n",
       "  ['aggressive', 3.288867219943509]],\n",
       " [['thanks', 2.0232565586938893],\n",
       "  ['sorry', 2.1279132921541724],\n",
       "  ['careless', 2.661476724483416],\n",
       "  ['cautious', 2.6808901248004053],\n",
       "  ['angry', 2.715604528121776],\n",
       "  ['happy', 2.729631274616077],\n",
       "  ['calm', 2.7729750443209937],\n",
       "  ['nervous', 2.7926052397847956],\n",
       "  ['defensive', 2.864536291400381],\n",
       "  ['aggressive', 3.160521946897272]],\n",
       " [['thanks', 2.0567278824223636],\n",
       "  ['sorry', 2.1796449356596526],\n",
       "  ['careless', 2.7170462388390297],\n",
       "  ['happy', 2.7256367895067455],\n",
       "  ['cautious', 2.742984253187566],\n",
       "  ['angry', 2.7613655368602914],\n",
       "  ['calm', 2.802191951254557],\n",
       "  ['nervous', 2.849636451835646],\n",
       "  ['defensive', 2.931321627230763],\n",
       "  ['aggressive', 3.223451906177147]]]"
      ]
     },
     "execution_count": 23,
     "metadata": {},
     "output_type": "execute_result"
    }
   ],
   "source": [
    "github[\"['opera', 'loving', 'delivers']\"]"
   ]
  },
  {
   "cell_type": "code",
   "execution_count": null,
   "metadata": {},
   "outputs": [],
   "source": []
  }
 ],
 "metadata": {
  "kernelspec": {
   "display_name": "Python 3",
   "language": "python",
   "name": "python3"
  },
  "language_info": {
   "codemirror_mode": {
    "name": "ipython",
    "version": 3
   },
   "file_extension": ".py",
   "mimetype": "text/x-python",
   "name": "python",
   "nbconvert_exporter": "python",
   "pygments_lexer": "ipython3",
   "version": "3.5.2"
  }
 },
 "nbformat": 4,
 "nbformat_minor": 2
}
