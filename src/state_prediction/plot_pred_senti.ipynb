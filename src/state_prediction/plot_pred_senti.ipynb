{
 "cells": [
  {
   "cell_type": "code",
   "execution_count": 5,
   "metadata": {},
   "outputs": [],
   "source": [
    "import os\n",
    "import json"
   ]
  },
  {
   "cell_type": "code",
   "execution_count": 6,
   "metadata": {},
   "outputs": [
    {
     "data": {
      "text/plain": [
       "'/home/jyuwei/code/WordEmbedding-SubCulture/src'"
      ]
     },
     "execution_count": 6,
     "metadata": {},
     "output_type": "execute_result"
    }
   ],
   "source": [
    "%pwd"
   ]
  },
  {
   "cell_type": "code",
   "execution_count": 11,
   "metadata": {},
   "outputs": [],
   "source": [
    "os.chdir('src')"
   ]
  },
  {
   "cell_type": "code",
   "execution_count": 12,
   "metadata": {},
   "outputs": [
    {
     "data": {
      "text/plain": [
       "'/home/jyuwei/code/WordEmbedding-SubCulture/src'"
      ]
     },
     "execution_count": 12,
     "metadata": {},
     "output_type": "execute_result"
    }
   ],
   "source": [
    "%pwd"
   ]
  },
  {
   "cell_type": "code",
   "execution_count": 13,
   "metadata": {},
   "outputs": [],
   "source": [
    "with open('../result/state_prediction/svo_senti_epa', 'r') as fp:\n",
    "    epa = json.load(fp)"
   ]
  },
  {
   "cell_type": "code",
   "execution_count": 14,
   "metadata": {},
   "outputs": [],
   "source": [
    "with open('../result/state_prediction/svo_senti_general', 'r') as fp:\n",
    "    general = json.load(fp)"
   ]
  },
  {
   "cell_type": "code",
   "execution_count": 10,
   "metadata": {},
   "outputs": [],
   "source": [
    "with open('../result/state_prediction/svo_senti_github', 'r') as fp:\n",
    "    github = json.load(fp)"
   ]
  },
  {
   "cell_type": "code",
   "execution_count": 31,
   "metadata": {},
   "outputs": [],
   "source": [
    "with open('../result/state_prediction/news_sent_svo', 'r') as fp:\n",
    "    sent_svo = json.load(fp)"
   ]
  },
  {
   "cell_type": "code",
   "execution_count": 15,
   "metadata": {},
   "outputs": [],
   "source": [
    "events = set(general.keys()) & set(epa.keys())"
   ]
  },
  {
   "cell_type": "code",
   "execution_count": 41,
   "metadata": {
    "scrolled": true
   },
   "outputs": [
    {
     "data": {
      "text/plain": [
       "1532"
      ]
     },
     "execution_count": 41,
     "metadata": {},
     "output_type": "execute_result"
    }
   ],
   "source": [
    "len(events)\n",
    "# print(events)"
   ]
  },
  {
   "cell_type": "code",
   "execution_count": 42,
   "metadata": {},
   "outputs": [],
   "source": [
    "dic = {}\n",
    "hit_s, hit_o = 0, 0\n",
    "for key in events:\n",
    "    cnt = 0\n",
    "    epa_ets, epa_eto = epa[key][1], epa[key][3]\n",
    "    pred_ets, pred_eto = general[key][1], general[key][3]\n",
    "    sepa_sent, spred_sent = [], []\n",
    "    oepa_sent, opred_sent = [], []\n",
    "    for i in range(0, 3):\n",
    "        sepa_sent.append(epa_ets[i][0])\n",
    "        spred_sent.append(pred_ets[i][0])\n",
    "        oepa_sent.append(epa_eto[i][0])\n",
    "        opred_sent.append(pred_eto[i][0])\n",
    "    cnt = len(set(sepa_sent) & set(spred_sent)) + len(set(oepa_sent) & set(opred_sent)) \n",
    "    dic[key] = cnt\n",
    "    if len(set(sepa_sent) & set(spred_sent)) > 0:\n",
    "        hit_s += 1\n",
    "    if len(set(oepa_sent) & set(opred_sent)) > 0:\n",
    "        hit_o += 1\n",
    "from collections import OrderedDict\n",
    "events_ordered_dict = OrderedDict(dic)\n",
    "events = list(events_ordered_dict.keys())"
   ]
  },
  {
   "cell_type": "code",
   "execution_count": 46,
   "metadata": {},
   "outputs": [
    {
     "name": "stdout",
     "output_type": "stream",
     "text": [
      "0.9406005221932114\n",
      "0.9327676240208878\n"
     ]
    }
   ],
   "source": [
    "print(hit_s / 1532)\n",
    "print(hit_o / 1532)"
   ]
  },
  {
   "cell_type": "code",
   "execution_count": 26,
   "metadata": {},
   "outputs": [
    {
     "name": "stdout",
     "output_type": "stream",
     "text": [
      "[\"['SoftBank', 'slams', 'Sprint']\", \"['Bomb', 'kills', 'Iran']\", \"['UK', 'Eurovision', 'Implicit']\", \"['families', 'claim', 'sabotage']\", \"['Bundys', 'rant', 'rant']\", \"['fertilizer', 'eyes', 'fertilizer']\", \"['Masks', 'in', 'Ukraine']\", \"['speaker', 'offers', 'pension']\", \"['claim', 'claim', 'claim']\", \"['earthquake', 'strikes', 'Chile']\", \"['family', 'united', 'fight']\", \"['Kimchi', 'dies', 'overdose']\", \"['Fabius', 'back', 'EU']\", \"['Hong', 'Readies', 'Vote']\", \"['Japan', 'troops', 'islands']\", \"['explosions', 'rock', 'city']\", \"['Releases', 'U.S.', 'U.S.']\", \"['Russia', 'bars', 'airlines']\", \"['Stomp', 'Blank', 'Blank']\", \"['Gunmen', 'protest', 'ministry']\", \"['militarys', 'zaps', 'Blank']\", \"['China', 'points', 'attack']\", \"['mens', 'inspired', 'victims']\", \"['U.S.', 'housing', 'program']\", \"['John', 'dies', 'cancer']\", \"['Iran', 'price', 'OPEC']\", \"['Deadly', 'leave', 'power']\", \"['Joshua', 'returns', 'foot']\", \"['horses', 'die', 'fire']\", \"['Schoolboy', 'planned', 'guns']\", \"['Implicit', 'dying', 'tree']\", \"['Boston', 'share', 'survivors']\", \"['Blank', 'boom', 'China']\", \"['Israel', 'UN', 'peace']\", \"['U.S.', 'Chairman', 'on']\", \"['earthquake', 'kills', 'China']\", \"['Obama', 'sanctions', 'Russia']\", \"['Property', 'hotspots', 'yuppies']\", \"['Senator', 'fire', 'fire']\", \"['U.S.', 'treads', 'Chavez']\", \"['poetry', 'awarded', 'Blank']\", \"['peace', 'brings', 'development']\", \"['Bomb', 'Kills', '5']\", \"['Clinton', 'Recommends', 'Leaders']\", \"['China', 'says', 'station']\", \"['town', 'celebrates', 'boy']\", \"['Afghanistan', 'killed', 'protests']\", \"['UN', 'seeks', 'CAR']\", \"['hopes', 'kidnapped', 'Nigeria']\", \"['Baby', 'Born', 'Transplant']\", \"['Militants', 'Say', 'Hostage']\", \"['Man', 'jailed', 'posing']\", \"['Hillary', 'blasts', 'Snowden']\", \"['Sudan', 'plans', 'airdrops']\", \"['Citi', 'pay', 'pay']\", \"['Muslim', 'flees', 'Muslim']\", \"['Ash', 'dieback', 'Implicit']\", \"['Egyptians', 'rejected', 'Brotherhood']\", \"['Groomsmen', 'save', 'fisherman']\", \"['NASA', 'Unveils', 'Tool']\", \"['Migrant', 'boat', 'boat']\", \"['Charges', 'test', 'statute']\", \"['Investigating', 'Signals', 'Change']\", \"['Senegal', 'prohibits', 'rally']\", \"['European', 'Minimize', 'Russia']\", \"['inmates', 'killed', 'explosion']\", \"['cheerleaders', 'sue', 'pay']\", \"['woman', 'attack', 'duck']\", \"['Kodak', 'director', 'director']\", \"['Venezuela', 'continues', 'simmer']\", \"['Philippines', 'charges', 'fishermen']\", \"['family', 'crash', 'death']\", \"['Boston', 'remembers', 'bombings']\", \"['families', 'help', 'families']\", \"['shares', 'rise', 'data']\", \"['King', 'takes', 'throne']\", \"['Rescuers', 'Struggle', 'Afghans']\", \"['US', 'raises', 'pressure']\", \"['Mombasa', 'rip', 'bombs']\", \"['Russian', 'Attend', 'Inauguration']\", \"['League', 'soften', 'plan']\", \"['American', 'testifies', 'sermons']\", \"['Brazil', 'deploys', 'Cup']\", \"['Jordanian', 'Strike', 'Syria']\", \"['Brazils', 'takes', 'environmentalists']\", \"['Report', 'Malaysia', 'Confusion']\", \"['Girls', 'found', 'origins']\", \"['Bank', 'falls', 'profit']\", \"['Michelle', 'support', 'girls']\", \"['Bashar', 'Run', 'Term']\", \"['Yemen', 'kill', 'al']\", \"['Safari', 'kidnap', 'invaders']\", \"['Paynes', 'Dance', 'Argentina']\", \"['whale', 'carcass', 'blue']\", \"['Facebook', 'pledges', 'fortune']\", \"['Duchess', 'Wills', 'Wills']\", \"['goes', 'Pastel', 'Pastel']\", \"['MPs', 'approve', 'law']\", \"['Boy', 'Trapped', 'Machine']\", \"['Russia', 'faces', 'consequences']\", \"['Teens', 'Sinking', 'Ferry']\", \"['Dianne', 'defend', 'Woody']\", \"['Sudan', 'Hire', 'Hire']\", \"['Modi', 'Wins', 'Elections']\", \"['Labor', 'rise', 'modestly']\", \"['chief', 'wounded', 'attack']\", \"['Wen', 'voices', 'Japan']\", \"['Grillo', 'threaten', 'empire']\", \"['members', 'photos', 'photos']\", \"['Gingrich', 'Faces', 'Uncertainty']\", \"['Scientists', 'find', 'Model']\", \"['Men', 'own', 'cats']\", \"['action', 'on', 'senators']\", \"['Pakistani', 'killed', 'Taliban']\", \"['Group', 'Hope', 'Coal']\", \"['chief', 'intelligence', 'staying']\", \"['Harper', 'agrees', 'ebook']\", \"['Tomb', 'dating', 'discovered']\", \"['Pistorius', 'Tries', 'Case']\", \"['Migrants', 'killed', 'boat']\", \"['Gunfire', 'injures', 'fans']\", \"['Boy', 'survived', 'Hawaii']\", \"['Bear', 'Kills', 'Worker']\", \"['Irish', 'taking', 'poor']\", \"['Syrian', 'account', 'weapons']\", \"['Afghanistan', 'settled', 'season']\", \"['Apple', 'Record', 'iPad']\", \"['Leaders', 'destroying', 'Sudan']\", \"['Putin', 'Restore', 'USSR']\", \"['court', 'allows', 'testimony']\", \"['Baby', 'dies', 'hours']\", \"['Missouri', 'killing', 'drugs']\", \"['Milan', 'set', 'record']\", \"['President', 'with', 'minister']\", \"['Devoe', 'yogi', 'spiritual']\", \"['Companies', 'litigate', 'protect']\", \"['gig', 'record', 'Implicit']\", \"['schoolgirls', 'kidnapped', 'British']\", \"['Image', 'Captures', 'Fires']\", \"['police', 'eviction', 'Roma']\", \"['Nigerian', 'Blast', 'witnesses']\", \"['govt', 'seeks', 'wealthy']\", \"['Washington', 'Fights', 'Libya']\", \"['peoples', 'republic', 'Ukraine']\", \"['van', 'crashes', 'MILLION']\", \"['three', 'killed', 'three']\", \"['Stevens', 'play', 'concerts']\", \"['California', 'California', 'corruption']\", \"['Conchita', 'winning', 'Conchita']\", \"['Teen', 'poison', 'grandmother']\", \"['harem', 'against', 'harem']\", \"['Families', 'ferry', 'palace']\", \"['trading', 'dangerously', 'Dawn']\", \"['Apples', 'battle', 'iPad']\", \"['rebels', 'executed', 'hostage']\", \"['men', 'read', 'books']\", \"['Obama', 'tributes', 'dead']\", \"['Policeman', 'dead', 'blast']\", \"['Clinton', 'proposes', 'limits']\", \"['Iran', 'hangs', 'man']\", \"['Obama', 'offers', 'NY']\", \"['Indians', 'justice', 'cases']\", \"['Obama', 'Tries', 'Pivot']\", \"['Death', 'Climbs', 'Accident']\", \"['Germany', 'denies', 'exit']\", \"['Archaeologists', 'unearth', 'tombs']\", \"['investment', 'investment', 'looms']\", \"['Papua', 'Sparks', 'Tsunami']\", \"['Students', 'dazzle', 'medley']\", \"['Turkey', 'denial', 'accused']\", \"['Case', 'Harassment', 'Court']\", \"['magnitude', 'strikes', 'Papua']\", \"['Group', 'hears', 'concerns']\", \"['Ryan', 'Republicans', 'increase']\", \"['Ukraine', 'bares', 'uprising']\", \"['Starbucks', 'relocation', 'generate']\", \"['Merkel', 'Send', 'Warning']\", \"['Islamists', 'kidnapped', 'Implicit']\", \"['Asteroid', 'Crash', 'Earth']\", \"['Ukraine', 'Claims', 'Positions']\", \"['Court', 'Tells', 'Journalists']\", \"['protesters', 'clash', 'Donetsk']\", \"['troops', 'find', 'gunmen']\", \"['Ukraine', 'Shootout', 'Ukraine']\", \"['Germans', 'cuts', 'EU']\", \"['Comments', 'Comments', 'ministers']\", \"['SNC', 'disappointed', 'Syria']\", \"['Russia', 'says', 'militants']\", \"['officials', 'rush', 'autopilot']\", \"['Libyan', 'critic', 'killed']\", \"['Ukrainian', 'funds', 'Symonenko']\", \"['president', 'says', 'Qaeda']\", \"['Mosque', 'attacked', 'biggest']\", \"['Soldier', 'returns', 'Afghanistan']\", \"['Activists', 'release', 'Shahrokh']\", \"['woman', 'suicide', 'Thailand']\", \"['Japans', 'economy', 'grows']\", \"['Gerry', 'arrested', 'Gerry']\", \"['tornadoes', 'rip', 'US']\", \"['Pistorius', 'spends', 'cell']\", \"['stowaway', 'stowaway', 'services']\", \"['Russian', 'convicted', 'fire']\", \"['Dell', 'unveils', 'tablet']\", \"['Argentina', 'uses', 'match']\", \"['Giant', 'Saves', 'Snorkelers']\", \"['Clinton', 'Praises', 'Agreement']\", \"['Syria', 'monitoring', 'chemical']\", \"['dog', 'called', 'JURY']\", \"['League', 'discusses', 'Syrias']\", \"['Hernandez', 'threatened', 'guard']\", \"['Modi', 'defuse', 'jobs']\", \"['Israeli', 'kills', 'truce']\", \"['Rot', 'Cure', 'Exposing']\", \"['clerics', 'own', 'trial']\", \"['Obama', 'reminds', 'military']\", \"['San', 'investigate', 'motorcycle']\", \"['Ukraine', 'gradual', 'action']\", \"['Climbs', 'Called', 'Deaths']\", \"['China', 'Dispute', 'Vietnam']\", \"['Party', 'his', 'job']\", \"['Violence', 'Erupts', 'Ukraine']\", \"['baby', 'named', 'George']\", \"['Mexico', 'probes', 'woman']\", \"['Romeo', 'discovered', 'Juliet']\", \"['Position', 'sleep', 'Position']\", \"['warming', 'pause', 'debate']\", \"['China', 'Launches', 'Satellites']\", \"['Portuguese', 'build', 'faith']\", \"['UN', 'alarm', 'Ukraine']\", \"['Turkish', 'Seen', 'Disaster']\", \"['Napoleons', 'remains', 'garden']\", \"['Egyptian', 'Democracy', 'Helicopter']\", \"['Odessa', 'die', 'helicopters']\", \"['grandsons', 'Suicide', 'Blank']\", \"['activists', 'evacuations', 'Homs']\", \"['video', 'shows', 'students']\", \"['Wireless', 'Wireless', 'vaccines']\", \"['court', 'reverses', 'opioid']\", \"['Malaysia', 'urges', 'families']\", \"['Irans', 'urges', 'womens']\", \"['man', 'charged', 'Bobo']\", \"['Venezuela', 'violated', 'protesters']\", \"['woman', 'kidnapped', 'woman']\", \"['Alcoa', 'helping', 'profit']\", \"['Afghanistan', 'kills', 'wounded']\", \"['Taliban', 'End', 'Pakistan']\", \"['China', 'offers', 'rewards']\", \"['Mother', 'thrown', 'son']\", \"['office', 'blasts', 'office']\", \"['messages', 'are', 'lies']\", \"['Manchester', 'happened', 'Blank']\", \"['Putin', 'urges', 'Putin']\", \"['Albrights', 'Blank', 'Hearings']\", \"['Ohio', 'increase', 'lawsuit']\", \"['Committee', 'Denies', 'Gingrich']\", \"['Oklahoma', 'plans', 'Blank']\", \"['Arabia', 'Fires', 'Minister']\", \"['violence', 'worsens', 'west']\", \"['hotelier', 'murdered', 'murdered']\", \"['police', 'ponder', 'soldier']\", \"['group', 'attacked', 'saw']\", \"['rebels', 'report', 'advances']\", \"['Alcohol', 'Kills', 'Person']\", \"['hearing', 'waived', 'Pretrial']\", \"['Death', 'mudslide', 'state']\", \"['Japan', 'says', 'crisis']\", \"['Protesters', 'Burn', 'Effigy']\", \"['King', 'Replaces', 'Chief']\", \"['Baxter', 'talks', 'Baxter']\", \"['Catholic', 'investigated', 'babies']\", \"['Couple', 'attack', 'game']\", \"['Teen', 'survived', 'California']\", \"['EU', 'sentences', 'law']\", \"['FBI', 'warns', 'students']\", \"['Ivory', 'Find', 'Elephants']\", \"['officials', 'turn', 'companies']\", \"['Lawyer', 'deposed', 'case']\", \"['Iran', 'bound', 'she']\", \"['Transgender', 'sues', 'discrimination']\", \"['Yorkers', 'bracing', 'winter']\", \"['U.S.', 'dispatches', 'talks']\", \"['House', 'Hire', 'Recipients']\", \"['Kenyas', 'Mombasa', 'killed']\", \"['India', 'votes', 'polling']\", \"['diplomat', 'investigated', 'Briton']\", \"['corn', 'change', 'diet']\", \"['Football', 'Kills', 'Stampede']\", \"['Student', 'Hits', 'Jackpot']\", \"['Bombers', 'target', 'pilgrims']\", \"['Blank', 'Fighting', 'Implicit']\", \"['Russia', 'threats', 'Ukraine']\", \"['Pill', 'developed', 'test']\", \"['Afghan', 'Insurgents', 'Scores']\", \"['Nigeria', 'seized', 'teacher']\", \"['Vietnam', 'China', 'leave']\", \"['Berlin', 'bans', 'Mickey']\", \"['military', 'says', 'schoolgirls']\", \"['owners', 'find', 'appealing']\", \"['change', 'causing', 'instinct']\", \"['Implicit', 'Ukraine', 'Ukraine']\", \"['GlaxoSmithKline', 'investigating', 'Jordan']\", \"['Thousands', 'election', 'sacred']\", \"['Clinton', 'Drop', 'Loan']\", \"['Rice', 'helps', 'you']\", \"['miners', 'die', 'wall']\", \"['Teen', 'Becomes', 'King']\", \"['Obama', 'struggle', 'spying']\", \"['workers', 'evacuate', 'Fukushima']\", \"['Iran', 'arms', 'Syria']\", \"['Oil', 'Falls', 'Price']\", \"['workers', 'strike', 'workers']\", \"['police', 'hunt', 'witnesses']\", \"['Colombia', 'protest', 'coffee']\", \"['Chavez', 'void', 'Latin']\", \"['fraudster', 'visits', 'police']\", \"['meningitis', 'hospitalized', 'illness']\", \"['Arab', 'clears', 'member']\", \"['Benflis', 'mobilizes', 'election']\", \"['Sweden', 'ordering', 'Filipino']\", \"['Turkish', 'Expanding', 'Agencys']\", \"['captain', 'warned', 'boats']\", \"['Ambassador', 'Warns', 'War']\", \"['FBI', 'abused', 'boys']\", \"['Yahoo', 'jump', 'fall']\", \"['Egypt', 'votes', 'security']\", \"['schoolgirls', 'protect', 'rebels']\", \"['Boston', 'runs', 'streets']\", \"['France', 'Alter', 'Terms']\", \"['Family', 'Finds', 'Son']\", \"['politician', 'dies', 'attack']\", \"['Obama', 'talks', 'sanctions']\", \"['Contestant', 'Contestant', 'dies']\", \"['Public', 'Hearings', 'Case']\", \"['Palestinian', 'killed', 'Israeli']\", \"['Partisan', 'Battle', 'Gingrich']\", \"['Rio', 'worker', 'protesters']\", \"['U.S.', 'plans', 'Benghazi']\", \"['Boy', 'missing', 'alive']\", \"['Soccer', 'fight', 'prostitution']\", \"['Scientist', 'Dies', 'Who']\", \"['York', 'attacks', 'hatchet']\", \"['Federal', 'reminds', 'away']\", \"['Obama', 'block', 'envoy']\", \"['Bollywoods', 'engaged', 'engaged']\", \"['Japan', 'Pull', 'Search']\", \"['pact', 'offers', 'Cameron']\", \"['Tour', 'reward', 'Tour']\", \"['Way', 'Increase', 'Benefits']\", \"['Ferry', 'sinks', 'South']\", \"['Mortar', 'kills', 'Syria']\", \"['congressman', 'tapped', 'panel']\", \"['Funeral', 'held', 'teacher']\", \"['Dutch', 'pressure', 'pressure']\", \"['WHO', 'sounds', 'polio']\", \"['Police', 'Stolen', 'Shelter']\", \"['Syria', 'accuses', 'Turkey']\", \"['Mecca', 'talks', 'Press']\", \"['Plaza', 'compensation', 'widow']\", \"['bomb', 'kills', 'Afghan']\", \"['Governor', 'cost', 'Sandy']\", \"['Pope', 'visits', 'sites']\", \"['Syrian', 'push', 'Douma']\", \"['school', 'killing', 'girlfriend']\", \"['Soldier', 'murders', 'murders']\", \"['Obama', 'announces', 'video']\", \"['U.S.', 'adopts', 'tone']\", \"['lawyer', 'murdered', 'Implicit']\", \"['developer', 'delayed', 'Vote']\", \"['Michael', 'becomes', 'NFL']\", \"['Militants', 'Kill', 'Civilians']\", \"['Ruperts', 'accused', 'celebrities']\", \"['Socialists', 'pick', 'veteran']\", \"['Protesters', 'rescue', 'girls']\", \"['Libya', 'rescues', 'migrants']\", \"['wildfires', 'wildfires', 'California']\", \"['Weather', 'Weather', 'ferry']\", \"['Firebrand', 'cleric', 'fear']\", \"['Nigerians', 'Protests', 'Abductions']\", \"['Environment', 'hit', 'Environment']\", \"['awards', 'Wellcome', 'research']\", \"['Mariupol', 'liberated', 'forces']\", \"['footballer', 'dies', 'collapsing']\", \"['Cisco', 'kills', 'camera']\", \"['Five', 'wounded', 'wounded']\", \"['clashes', 'Islamists', 'Mali']\", \"['Guyana', 'Dispute', 'Project']\", \"['opera', 'loving', 'delivers']\", \"['officials', 'confirm', 'virus']\", \"['Implicit', 'Ahmadinejad', 'fades']\", \"['Pets', 'part', 'furniture']\", \"['Implicit', 'disrupted', 'Russia']\", \"['Man', 'makes', 'own']\", \"['Apathy', 'in', 'dementia']\", \"['Russell', 'divorces', 'wife']\", \"['G7', 'impose', 'Russia']\", \"['Man', 'Paid', 'Sex']\", \"['Chemical', 'weighs', 'probe']\", \"['Sina', 'Apologizes', 'Porn']\", \"['Airport', 'secretly', 'bags']\", \"['Clashes', 'Kill', 'One']\", \"['Model', 'helps', 'police']\", \"['Ukrainian', 'Ravaged', 'Supporters']\", \"['Japan', 'hold', 'leadership']\", \"['asteroid', 'hitting', 'Earth']\", \"['looking', 'burglar', 'burglar']\", \"['Snowden', 'Defends', 'Part']\", \"['BOJ', 'policy', 'purchases']\", \"['U.S.', 'equipment', 'Syria']\", \"['Southbank', 'warned', 'vetting']\", \"['mine', 'killed', 'China']\", \"['pilgrims', 'flag', 'unity']\", \"['Military', 'Dogged', 'Bullying']\", \"['pleads', 'pleads', 'Central']\", \"['Bob', 'Dies', 'British']\", \"['Ford', 'losses', 'cuts']\", \"['Yellen', 'says', 'job']\", \"['Ukraine', 'brink', 'rebels']\", \"['Ray', 'Hope', 'TV']\", \"['Art', 'Collection', 'Swiss']\", \"['Stratfor', 'Stratfor', 'email']\", \"['Kurdish', 'killed', 'Paris']\", \"['wildfire', 'forces', 'homes']\", \"['Car', 'fire', 'Syrias']\", \"['SAfrica', 'celebrates', 'celebrates']\", \"['Saudi', 'court', 'website']\", \"['Dozens', 'killed', 'bus']\", \"['Number', 'Ukraine', 'concern']\", \"['U.N.', 'stokes', 'program']\", \"['Ukraine', 'Ukraine', 'raises']\", \"['man', 'stuck', 'building']\", \"['Republicans', 'push', 'talks']\", \"['Congress', 'Implicit', 'Helped']\", \"['signal', 'willingness', 'negotiate']\", \"['Ferry', 'acted', 'murderers']\", \"['Implicit', 'Delaying', 'Case']\", \"['Eight', 'killed', 'killed']\", \"['Aid', 'turns', 'displaced']\", \"['Bulgaria', 'charges', 'embezzlement']\", \"['Wall', 'crashed', 'Sherpas']\", \"['Canete', 'wins', 'Canete']\", \"['injured', 'disposal', 'clashes']\", \"['cocoa', 'blood', 'brain']\", \"['Race', 'Replace', 'Richardson']\", \"['Marijuana', 'stave', 'Alzheimers']\", \"['Apartment', 'Apartment', 'Sells']\", \"['Apple', 'surprise', 'surprise']\", \"['White', 'House', 'car']\", \"['army', 'say', 'cede']\", \"['China', 'robust', 'trade']\", \"['Siemens', 'buys', 'business']\", \"['Scientists', 'create', 'device']\", \"['bones', 'arrive', 'Museum']\", \"['iPad', 'failing', 'iPad']\", \"['Implicit', 'Imprisoned', 'Islamists']\", \"['Kaine', 'endorses', 'Hillary']\", \"['Eurovision', 'Wins', 'Eurovision']\", \"['lifts', 'suspension', 'Implicit']\", \"['Treasuries', 'gains', 'suffer']\", \"['colony', 'receives', 'human']\", \"['Committee', 'Drops', 'Case']\", \"['gold', 'nugget', 'discovered']\", \"['Obama', 'visit', 'Malaysia']\", \"['twins', 'born', 'holding']\", \"['U.N.', 'detained', 'peacekeepers']\", \"['Implicit', 'Hurt', 'Dozens']\", \"['Amber', 'reveals', 'eyes']\", \"['forces', 'kill', 'teen']\", \"['Pope', 'says', 'priests']\", \"['Amazon', 'reports', 'loss']\", \"['Clinton', 'vouches', 'Hillarys']\", \"['Kennedy', 'back', 'Hillary']\", \"['center', 'uncovers', 'surprises']\", \"['Tale', 'My', 'Pony']\", \"['talks', 'talks', 'peace']\", \"['Nasdaq', 'shareholders', 'battle']\", \"['Andre', 'attempted', 'suicide']\", \"['Warner', 'out', 'unit']\", \"['Insurgents', 'opts', 'Ukraine']\", \"['Ukraine', 'fighting', 'Dozens']\", \"['invest', 'invest', 'over']\", \"['Institut', 'LOST', 'deadly']\", \"['children', 'saw', 'alive']\", \"['U.S.', 'restore', 'order']\", \"['Mexico', 'Suspends', 'Judges']\", \"['Revelations', 'Lawsuit', 'Fuel']\", \"['Scouts', 'votes', 'ban']\", \"['Ronald', 'has', 'makeover']\", \"['Egypts', 'face', 'rival']\", \"['wins', 'wins', 'Ecuador']\", \"['Street', 'manages', 'gain']\", \"['Congress', 'plants', 'U.S.']\", \"['Court', 'Extends', 'Arrest']\", \"['leader', 'agrees', 'president']\", \"['student', 'joy', 'college']\", \"['Greece', 'launches', 'swap']\", \"['NGOs', 'harm', 'good']\", \"['Gaza', 'holds', 'deep']\", \"['Businesses', 'cutting', 'ObamaCare']\", \"['FBI', 'link', 'ricin']\", \"['party', 'control', 'drunk']\", \"['Frank', 'walks', 'jail']\", \"['talks', 'Ukraine', 'Russia']\", \"['dead', 'blast', 'pipeline']\", \"['Mexico', 'captures', 'boss']\", \"['Court', 'Jails', 'Migrants']\", \"['Dozens', 'Killed', 'Ukraine']\", \"['Scientists', 'find', 'antibodies']\", \"['Rosneft', 'deal', 'Sechin']\", \"['UN', 'blast', 'Ukraine']\", \"['train', 'crash', 'India']\", \"['Alex', 'bows', 'race']\", \"['Christie', 'named', 'Father']\", \"['Cost', 'Malaysia', 'search']\", \"['Womens', 'costs', 'inject']\", \"['Bryan', 'Bryan', 'case']\", \"['Nigerian', 'Implicit', 'Lady']\", \"['villagers', 'fight', 'Haram']\", \"['scam', 'attacks', 'buyers']\", \"['release', 'release', 'release']\", \"['Mexicos', 'frontier', 'Penalty']\", \"['clashes', 'killed', 'four']\", \"['Taliban', 'seize', 'town']\", \"['Dozens', 'killed', 'Ukraine']\", \"['Palestinian', 'unite', 'little']\", \"['Iraq', 'kill', 'Bombings']\", \"['Liberals', 'work', 'Swedish']\", \"['Five', 'stabbed', 'party']\", \"['Indiana', 'unperturbed', 'Mers']\", \"['Snowden', 'Defends', 'Putin']\", \"['Court', 'Supreme', 'Supreme']\", \"['collision', 'collision', 'several']\", \"['Greek', 'Claim', 'Blast']\", \"['killed', 'laid', 'miners']\", \"['over', 'Implicit', 'Implicit']\", \"['trains', 'collide', 'Switzerland']\", \"['Russia', 'calls', 'U.S.']\", \"['BT', 'extends', 'season']\", \"['Implicit', 'Thai', 'affected']\", \"['diplomat', 'injured', 'attempt']\", \"['Doctors', 'saved', 'woman']\", \"['Puerto', 'Submits', 'Balanced']\", \"['Crackdown', 'protests', 'Syria']\", \"['Madonna', 'files', 'Malawi']\", \"['Fein', 'arrest', 'Sinn']\", \"['Council', 'Rejects', 'Referendum']\", \"['U.S.', 'considers', 'Russia']\", \"['birds', 'shrank', 'ahead']\", \"['UK', 'says', 'conspiracy']\", \"['stylist', 'creates', 'illustrations']\", \"['Colorado', 'teen', 'teen']\", \"['U.S.', 'Built', 'Programs']\", \"['Pakistan', 'survives', 'blast']\", \"['collapse', 'kills', 'Implicit']\", \"['funds', 'follow', 'fuel']\", \"['House', 'approves', 'bill']\", \"['U.S.', 'Prepares', 'Moves']\", \"['McCain', 'mocks', 'sanctions']\", \"['Couple', 'possessions', 'suitcase']\", \"['Bishop', 'denied', 'Holocaust']\", \"['Pope', 'Good', 'Good']\", \"['jibes', 'ignore', 'counterfeiting']\", \"['EU', 'cut', 'use']\", \"['Nigerian', 'Released', 'Schoolgirls']\", \"['Pakistan', 'talks', 'cleric']\", \"['Congo', 'suspends', 'chief']\", \"['minister', 'dismissed', 'speaker']\", \"['statement', 'following', 'statement']\", \"['Yahoo', 'buys', 'turnaround']\", \"['Google', 'pay', 'lawsuit']\", \"['Nigerian', 'Nigerian', 'Nigerian']\", \"['official', 'faces', 'probe']\", \"['Assad', 'Attacks', 'Chlorine']\", \"['Obama', 'endorses', 'Powell']\", \"['Scientists', 'crown', 'champion']\", \"['militants', 'attacked', 'Nigerians']\", \"['EU', 'proposal', 'Blank']\", \"['division', 'names', 'No.']\", \"['firefighters', 'stuck', 'sinkhole']\", \"['Oil', 'spill', 'Angeles']\", \"['Britons', 'accused', 'Britons']\", \"['U.N.', 'chief', 'Syria']\", \"['Ebola', 'trials', 'Ebola']\", \"['Japan', 'spending', 'surges']\", \"['Indiana', 'caring', 'bustling']\", \"['AstraZeneca', 'Videos', 'AstraZeneca']\", \"['parliament', 'backs', 'source']\", \"['Judge', 'halts', 'Wisconsin']\", \"['Donnie', 'killed', 'trying']\", \"['Nigeria', 'Beefs', 'Security']\", \"['Netanyahu', 'look', 'ballot']\", \"['Venezuela', 'violated', 'rights']\", \"['police', 'probe', 'death']\", \"['Utah', 'denies', 'petition']\", \"['Haram', 'terrifying', 'Blank']\", \"['Worker', 'disability', 'fishing']\", \"['Obama', 'rejects', 'notion']\", \"['Clinton', 'Aim', 'Programs']\", \"['Ferry', 'face', 'charges']\", \"['Chants', 'against', 'president']\", \"['Bank', 'Satisfied', 'Tests']\", \"['China', 'assert', 'U.S.']\", \"['Phones', 'Could', 'Millions']\", \"['Annan', 'warns', 'Syria']\", \"['Syria', 'worries', 'Beirut']\", \"['Engine', 'downed', 'plane']\", \"['Canada', 'phase', 'tankers']\", \"['NFL', 'applaud', 'player']\", \"['Ukraine', 'provide', 'order']\", \"['China', 'paves', 'Xilai']\", \"['Americans', 'Outline', 'Agenda']\", \"['Submarine', 'Implicit', 'Service']\", \"['Malala', 'Wins', 'Nobel']\", \"['Program', 'Building', 'Europe']\", \"['teen', 'kills', 'children']\", \"['Bob', 'says', 'terrorist']\", \"['Fan', 'shot', 'final']\", \"['Ban', 'spoke', 'crisis']\", \"['Critic', 'Wounded', 'Attack']\", \"['commandos', 'retake', 'airport']\", \"['Obama', 'Support', 'Korea']\", \"['Avalanche', 'killed', 'Highlands']\", \"['activists', 'activists', 'rally']\", \"['soldiers', 'killed', 'Niger']\", \"['Oklahoma', 'stays', 'secrecy']\", \"['American', 'makes', 'landing']\", \"['judges', 'plan', 'alcohol']\", \"['women', 'blackmail', 'Saudi']\", \"['Sinn', 'poised', 'success']\", \"['Japan', 'risks', 'China']\", \"['Voices', 'defiance', 'memorial']\", \"['Ukraine', 'force', 'Kiev']\", \"['Brazil', 'plot', 'NSA']\", \"['Implicit', 'burn', 'rebels']\", \"['Congress', 'Party', 'State']\", \"['Amid', 'protests', 'Amid']\", \"['McCanns', 'Madeleine', 'Later']\", \"['party', 'maintain', 'limit']\", \"['Life', 'expectancy', 'women']\", \"['Twin', 'blasts', 'Nairobi']\", \"['victims', 'suspended', 'mudslide']\", \"['military', 'soldier', 'soldier']\", \"['Communities', 'question', 'FGM']\", \"['officials', 'warn', 'Syria']\", \"['jump', 'jump', 'tallest']\", \"['Theyve', 'Inside', 'plane']\", \"['Game', 'wins', 'Toronto']\", \"['call', 'offbeat', 'samples']\", \"['NATO', 'boost', 'patrols']\", \"['Police', 'arrest', 'student']\", \"['Minnesota', 'murdering', 'intruders']\", \"['Apple', 'enjoyed', 'holiday']\", \"['personal', 'instead', 'property']\", \"['Video', 'large', 'Yemen']\", \"['skateboard', 'coated', 'skateboard']\", \"['Implicit', 'menaces', 'U.S.']\", \"['Figure', 'Taliban', 'Blank']\", \"['Egypt', 'Attacks', 'Terrorist']\", \"['storms', 'dead', 'USA']\", \"['Panama', 'finds', 'weapons']\", \"['Body', 'found', 'crash']\", \"['Implicit', 'Implicit', 'in']\", \"['March', 'remembers', 'Holocaust']\", \"['Families', 'Mark', 'Anniversary']\", \"['beagle', 'lands', 'jobs']\", \"['Abdullah', 'Leads', 'Results']\", \"['Hagel', 'fighting', 'ITV']\", \"['prisoners', 'Florida', 'prisoners']\", \"['Hague', 'talks', 'Syria']\", \"['High', 'votes', 'Libyan']\", \"['Madoff', 'judge', 'unsealed']\", \"['Papal', 'lesson', 'politics']\", \"['Parents', 'Shock', 'Mouth']\", \"['victim', 'pay', 'crash']\", \"['Canete', 'wins', 'Open']\", \"['U.S.', 'sent', 'missiles']\", \"['Sandberg', 'does', 'share']\", \"['Jones', 'Draws', 'Court']\", \"['Syria', 'bid', 'missiles']\", \"['Obama', 'make', 'U.S.']\", \"['Jamaica', 'Residents', 'Concerns']\", \"['Bank', 'Springs', 'Leak']\", \"['IMF', 'Aid', 'Aid']\", \"['Syrian', 'accuses', 'Assads']\", \"['This', 'deaths', 'spike']\", \"['sons', 'celebrate', 'sons']\", \"['Arabia', 'expels', 'workers']\", \"['You', 'Taped', 'Taped']\", \"['Ukraine', 'launches', 'separatists']\", \"['vaccines', 'vaccines', 'attacks']\", \"['Qaeda', 'killed', 'Yemen']\", \"['Judge', 'Delays', 'Hearing']\", \"['FBI', 'held', 'charges']\", \"['CSX', 'belonged', 'American']\", \"['Silva', 'announces', 'alliance']\", \"['eye', 'eye', 'quarter']\", \"['Odessa', 'Assault', 'Ukraine']\", \"['Nigeria', 'Detains', 'Suspects']\", \"['Harris', 'puts', 'top']\", \"['Whitney', 'live', 'album']\", \"['people', 'stabbed', 'party']\", \"['four', 'killed', 'four']\", \"['Britons', 'Found', 'Body']\", \"['candidates', 'slain', 'vote']\", \"['virus', 'outbreak', 'Ebola']\", \"['chief', 'stop', 'Sudan']\", \"['from', 'Global', 'moves']\", \"['details', 'rekindle', 'flap']\", \"['Paris', 'call', 'director']\", \"['Googles', 'Grounded', 'Costs']\", \"['Pham', 'cured', 'Ebola']\", \"['equities', 'rally', 'data']\", \"['Ukraine', 'clash', 'separatists']\", \"['Jury', 'weighs', 'doctor']\", \"['Cartels', 'crime', 'food']\", \"['Turkish', 'eyed', 'meddling']\", \"['Syrian', 'push', 'residents']\", \"['leader', 'arrested', 'murder']\", \"['South', 'says', 'attacks']\", \"['panel', 'probes', 'employee']\", \"['Korea', 'agrees', 'nuclear']\", \"['student', 'refuses', 'test']\", \"['daughter', 'died', 'mother']\", \"['Korea', 'strike', 'North']\", \"['Ukraine', 'declare', 'victory']\", \"['Rebels', 'divided', 'truce']\", \"['impose', 'impose', 'Sudan']\", \"['bond', 'restructuring', 'set']\", \"['couple', 'still', 'couple']\", \"['Dozens', 'migrants', 'Europe']\", \"['Captain', 'arrested', 'crew']\", \"['EU', 'development', 'Romania']\", \"['Journalists', 'Jailed', 'Indonesia']\", \"['Sudan', 'War', 'Comfy']\", \"['Facebook', 'boasts', 'mobile']\", \"['deaths', 'rise', 'rise']\", \"['Disease', 'Worries', 'Affluent']\", \"['Watchdog', 'faults', 'Treasury']\", \"['Tourists', 'Gaining', 'Reputation']\", \"['Rebels', 'holding', 'executions']\", \"['Russia', 'proposal', 'proposal']\", \"['Wish', 'Check', 'Out']\", \"['family', 'settles', 'boy']\", \"['Country', 'stares', 'abyss']\", \"['army', 'enters', 'Cairo']\", \"['chief', 'deposited', 'account']\", \"['police', 'using', 'heroin']\", \"['Ukraine', 'kill', 'Ukraine']\", \"['Gingrich', 'Vote', 'Republicans']\", \"['Friend', 'death', 'anguish']\", \"['Activists', 'Storm', 'Building']\", \"['Assads', 'forces', 'pound']\", \"['senators', 'frustrated', 'strategy']\", \"['Barbour', 'Lobbies', 'Philosophy']\", \"['Clooney', 'withdraws', 'peacekeeping']\", \"['Insurgents', 'Insurgents', 'Easter']\", \"['Clintons', 'Victory', 'Thursday']\", \"['survives', 'assassination', 'Libyan']\", \"['Stouffer', 'after', 'Hannah']\", \"['mother', 'tries', 'pregnancy']\", \"['Libyan', 'killed', 'Cairo']\", \"['Afghans', 'Deadly', 'Life']\", \"['Google', 'executive', 'as']\", \"['John', 'Sen.', 'responsive']\", \"['Egypt', 'prosecutors', 'Mubaraks']\", \"['Marriage', 'Recognized', 'States']\", \"['Assad', 'tells', 'Assad']\", \"['Artists', 'revisit', 'this']\", \"['Japan', 'loosen', 'restrictions']\", \"['Dispatches', 'Dispatches', 'Front']\", \"['Referendum', 'Add', 'Fire']\", \"['agent', 'trying', 'bullets']\", \"['Damascus', 'Fighting', 'Damascus']\", \"['Ecuador', 'Says', 'Amazon']\", \"['Boy', 'attack', 'Boy']\", \"['Escaped', 'Describe', 'Captors']\", \"['earnings', 'Gamble', 'CEO']\", \"['Turkey', 'compensate', 'Cypriots']\", \"['Implicit', 'swallows', 'street']\", \"['Meredith', 'family', 'reveal']\", \"['test', 'proves', 'beautiful']\", \"['IMF', 'says', 'deal']\", \"['Korea', 'accords', 'dead']\", \"['Spain', 'says', 'deficit']\", \"['Spain', 'employment', 'blackspots']\", \"['Sina', 'Twice', 'Porn']\", \"['Marquez', 'Marquez', 'fragile']\", \"['Empress', 'fetches', 'Empress']\", \"['Slovakia', 'Signs', 'Deal']\", \"['middle', 'rising', 'Mexicos']\", \"['Americans', 'shooting', 'haircuts']\", \"['Boeing', 'wins', 'contract']\", \"['US', 'intercepts', 'spies']\", \"['Obama', 'bypassing', 'Congress']\", \"['Annan', 'expects', 'Assad']\", \"['Nauru', 'assaulted', 'children']\", \"['Senator', 'leads', 'nomination']\", \"['smallest', 'Worlds', 'blood']\", \"['Report', 'Case', 'Case']\", \"['girl', 'robbing', 'Bank']\", \"['Ukraine', 'is', 'Ukraine']\", \"['Johnson', 'bidders', 'NBA']\", \"['House', 'passes', 'bill']\", \"['Badakhshan', 'Deadly', 'Badakhshan']\", \"['Argentinas', 'heads', 'Court']\", \"['Moscow', 'Square', 'Moscow']\", \"['Intelligence', 'Intelligence', 'Intelligence']\", \"['U.S.', 'enrollment', 'costs']\", \"['president', 'cleared', 'crimes']\", \"['Three', 'attack', 'bomb']\", \"['Lawyers', 'Agree', 'Penalty']\", \"['Islands', 'Nearer', 'Korea']\", \"['Catherine', 'arrive', 'Australia']\", \"['Beckham', 'backlash', 'stadium']\", \"['universities', 'revealed', 'revealed']\", \"['fox', 'resident', 'House']\", \"['Airport', 'Expands', 'Cup']\", \"['Communist', 'Communist', 'Chinas']\", \"['tensions', 'tensions', 'arrive']\", \"['rebels', 'committed', 'truce']\", \"['Russian', 'cross', 'Ukraine']\", \"['frontrunner', 'cautious', 'energy']\", \"['Court', 'Probe', 'Abuses']\", \"['Syrians', 'dead', 'protests']\", \"['Nigeria', 'Doing', 'Enough']\", \"['Togo', 'arrive', 'mission']\", \"['Google', 'head', 'Glass']\", \"['militants', 'storm', 'building']\", \"['firm', 'settles', 'charges']\", \"['Instrument', 'Views', 'Dimensions']\", \"['envoy', 'walks', 'meeting']\", \"['Shamir', 'dies', 'premier']\", \"['Americas', 'Implicit', 'Implicit']\", \"['Station', 'Taken', 'Militia']\", \"['Relatives', 'sue', 'who']\", \"['Implicit', 'Calgary', 'Stabbing']\", \"['egg', 'risk', 'dog']\", \"['chief', 'meet', 'officials']\", \"['Peru', 'Shoot', 'Military']\", \"['Fields', 'Oil', 'Gains']\", \"['Deport', 'response', 'House']\", \"['train', 'carried', 'American']\", \"['Police', 'tear', 'Turkey']\", \"['Massachusetts', 'turnout', 'Senate']\", \"['S.Korea', 'dead', 'palace']\", \"['Child', 'smokes', 'cigarette']\", \"['Strong', 'jolts', 'Tokyo']\", \"['IMF', 'approves', 'Ukraine']\", \"['Victims', 'Sue', 'Authorities']\", \"['House', 'delaying', 'request']\", \"['Scandals', 'muddy', 'voting']\", \"['Ukraine', 'Calls', 'East']\", \"['Euro', 'seeks', 'money']\", \"['Scientists', 'find', 'protein']\", \"['NY', 'sells', 'computer']\", \"['siblings', 'die', 'fire']\", \"['Syrian', 'Claim', 'Weapons']\", \"['app', 'reveals', 'reveals']\", \"['ICRC', 'solve', 'mystery']\", \"['Clintons', 'thoughts', 'Boston']\", \"['Israel', 'encouraging', 'military']\", \"['Massacre', 'reported', 'reported']\", \"['Baby', 'dead', 'retaliation']\", \"['Teenager', 'poisoned', 'greens']\", \"['Facebook', 'seeking', 'action']\", \"['soldier', 'shoots', 'man']\", \"['Students', 'Trapped', 'Texts']\", \"['Putins', 'Maddening', 'Trick']\", \"['dynasty', 'battles', 'hold']\", \"['Malaysia', 'Landing', 'Malaysia']\", \"['Brunei', 'adopts', 'law']\", \"['Botched', 'Rapped', 'House']\", \"['comedy', 'gets', 'season']\", \"['Blast', 'device', 'device']\", \"['U.S.', 'Offers', 'Bounty']\", \"['sheriffs', 'detain', 'suspects']\", \"['Hillary', 'urges', 'resist']\", \"['president', 'leave', 'owner']\", \"['Goydos', 'Goydos', 'Sony']\", \"['Russia', 'militants', 'Ukraine']\", \"['Six', 'sentenced', 'service']\", \"['bomber', 'kills', 'Afghanistan']\", \"['Domestic', 'Frictions', 'Georgians']\", \"['Malaysia', 'reveals', 'report']\", \"['U.N.', 'condemns', 'Syria']\", \"['Environment', 'important', 'autism']\", \"['Nasri', 'rescue', 'Sunderland']\", \"['Policeman', 'Shot', 'Football']\", \"['Fein', 'turn', 'Adams']\", \"['NYC', 'had', 'injuries']\", \"['Bullard', 'says', 'undecided']\", \"['Troops', 'confront', 'Krutov']\", \"['Risking', 'Risking', 'escape']\", \"['Terror', 'Sells', 'Girls']\", \"['U.S.', 'plan', 'heat']\", \"['Hospital', 'Twist', 'Hospital']\", \"['Divers', 'find', 'bodies']\", \"['president', 'names', 'elections']\", \"['Iran', 'condemns', 'skyscraper']\", \"['Cape', 'Goes', 'Global']\", \"['Brazil', 'wary', 'prices']\", \"['IRA', 'dead', 'Continuity']\", \"['Chief', 'Reflects', 'Doctors']\", \"['Gunmen', 'Shoot', 'Bodyguards']\", \"['Boston', 'marks', 'bombings']\", \"['Chris', 'prison', 'violation']\", \"['crackdown', 'spare', 'businesses']\", \"['Chemical', 'prevents', 'retina']\", \"['Conchita', 'wins', 'Contest']\", \"['election', 'runoff', 'runoff']\", \"['troops', 'kill', 'gunmen']\", \"['EU', 'probe', 'probe']\", \"['Fringes', 'awarded', 'Tim']\", \"['tiger', 'welcomed', 'Zoo']\", \"['lawmakers', 'approve', 'bill']\", \"['Chavez', 'flies', 'surgery']\", \"['restaurant', 'captures', 'GHOST']\", \"['diplomats', 'meet', 'Syria']\", \"['Republicans', 'election', 'winner']\", \"['hitman', 'spills', 'plot']\", \"['condemns', 'condemns', 'sentences']\", \"['Washington', 'cleanup', 'budget']\", \"['schoolgirls', 'kidnapped', 'extremists']\", \"['spending', 'spending', 'hopes']\", \"['Charlie', 'become', 'star']\", \"['Report', 'Faults', 'Haiti']\", \"['residents', 'MERS', 'MERS']\", \"['Ukraine', 'sparks', 'Odessa']\", \"['Blast', 'Shakes', 'Station']\", \"['court', 'upholds', 'adviser']\", \"['Peru', 'Mining', 'Mon']\", \"['Implicit', 'orders', 'operation']\", \"['Knox', 'delivered', 'blow']\", \"['dollar', 'highs', 'highs']\", \"['Mourners', 'remember', 'funeral']\", \"['could', 'TWC', 'says']\", \"['CCTV', 'hunted', 'car']\", \"['ADIBF', 'cooking', 'bridges']\", \"['Mursi', 'says', 'pledge']\", \"['Implicit', 'hit', 'train']\", \"['Obama', 'Imposes', 'Russia']\", \"['searchers', 'fear', 'toll']\", \"['Gingrich', 'Broken', 'Tape']\", \"['Implicit', 'Sensational', 'Implicit']\", \"['NBA', 'comments', 'owner']\", \"['Paul', 'calls', 'superannuation']\", \"['U.S.', 'tells', 'business']\", \"['senior', 'kicked', 'prom']\", \"['troops', 'assault', 'assault']\", \"['Brazil', 'Struggles', 'Matches']\", \"['victims', 'mourned', 'day']\", \"['Housing', 'climb', 'Housing']\", \"['Gaza', 'Buried', 'Rubble']\", \"['baby', 'dies', 'baby']\", \"['Syrian', 'peacekeepers', 'U.N.']\", \"['interviews', 'mom', 'Implicit']\", \"['Finland', 'kills', 'eight']\", \"['announcement', 'flee', 'league']\", \"['Yemen', 'captures', 'stronghold']\", \"['Morris', 'Portrays', 'Clinton']\", \"['Hero', 'Life', 'Ferry']\", \"['Nigerian', 'military', 'military']\", \"['Kerry', 'visit', 'Ethiopia']\", \"['Dissident', 'shot', 'Irish']\", \"['facts', 'facts', 'about']\", \"['Worlds', 'Valuation', 'Startups']\", \"['EU', 'buoys', 'markets']\", \"['Bounty', 'rises', 'owner']\", \"['Pakistan', 'urges', 'India']\", \"['Auto', 'Hunt', 'China']\", \"['Berlin', 'asks', 'Russia']\", \"['Researchers', 'dimwitted', 'inferiors']\", \"['Ukraine', 'investigating', 'Sberbank']\", \"['Drone', 'kills', 'suspected']\", \"['Senegal', 'declare', 'ceasefire']\", \"['Dump', 'buried', 'flop']\", \"['Lisa', 'fear', 'stalkers']\", \"['building', 'takeovers', 'building']\", \"['Militants', 'Killed', 'Militants']\", \"['Finland', 'Implicit', 'Finland']\", \"['judge', 'struck', 'judge']\", \"['Ireland', 'eyes', 'program']\", \"['Simpsons', 'makeover', 'fresh']\", \"['California', 'supply', 'earthquake']\", \"['Bankers', 'urge', 'growth']\", \"['U.S.', 'condemns', 'claim']\", \"['ICC', 'investigates', 'Ukraine']\", \"['Protesters', 'Seize', 'Ukraine']\", \"['Consul', 'meets', 'police']\", \"['mom', 'awakes', 'baby']\", \"['Korea', 'ready', 'discuss']\", \"['Blast', 'Blast', 'Abuja']\", \"['Dealer', 'Selling', 'Busted']\", \"['ANC', 'wins', 'Africa']\", \"['Catholics', 'Pay', 'Tribute']\", \"['Geneva', 'talks', 'call']\", \"['Crystal', 'deny', 'Everton']\", \"['Boston', 'weeps', 'court']\", \"['Bomb', 'Blasts', 'Kenya']\", \"['sends', 'Implicit', 'Odessa']\", \"['Billionaire', 'Pledges', 'Ebola']\", \"['Vermont', 'passes', 'GMO']\", \"['Defendant', 'Shot', 'Dead']\", \"['Japanese', 'Investment', 'Slump']\", \"['Girlfriend', 'missing', 'flight']\", \"['Boston', 'bomb', 'bomb']\", \"['Ukraines', 'action', 'order']\", \"['Caucasus', 'Caucasus', 'Caucasus']\", \"['FDA', 'approves', 'arm']\", \"['Ferry', 'Found', 'Passengers']\", \"['Everest', 'Canceled', 'Avalanche']\", \"['balloon', 'fire', 'balloon']\", \"['France', 'arrests', 'Interpol']\", \"['cooks', 'spoil', 'broth']\", \"['Man', 'fear', 'IRA']\", \"['Military', 'secures', 'airport']\", \"['Tillman', 'Blank', 'Marathon']\", \"['Oscar', 'Taking', 'Trial']\", \"['president', 'finding', 'schoolgirls']\", \"['Obama', 'rush', 'Syria']\", \"['Survivors', 'regret', 'students']\", \"['Police', 'called', 'club']\", \"['Leaders', 'EU', 'negotiations']\", \"['Pakistan', 'cuts', 'phones']\", \"['vote', 'vote', 'vote']\", \"['court', 'privacy', 'seizures']\", \"['Jews', 'Ahead', 'Popes']\", \"['Caribbean', 'calls', 'reparations']\", \"['Virus', 'Gains', 'Caribbean']\", \"['Man', 'protest', 'Court']\", \"['government', 'excludes', 'Islamists']\", \"['NSA', 'rejected', 'story']\", \"['jellyfish', 'identified', 'Gulf']\", \"['Russia', 'Adds', 'Adds']\", \"['Verizon', 'ditches', 'customer']\", \"['Squatters', 'move', 'Afghan']\", \"['questions', '9', 'Ukraine']\", \"['Pakistani', 'bars', 'bars']\", \"['Troops', 'Kill', 'Teenager']\", \"['Nigerian', 'joins', 'worldwide']\", \"['Microsoft', 'unveil', 'Windows']\", \"['woman', 'exploits', 'policy']\", \"['Obama', 'avoids', 'errors']\", \"['Apple', 'meets', 'forecasts']\", \"['consumer', 'win', 'death']\", \"['Girl', 'found', 'Implicit']\", \"['Tom', 'Holmes', 'wedding']\", \"['Vatican', 'scrutiny', 'abuse']\", \"['Scientists', 'Print', 'Panels']\", \"['teacher', 'arrested', 'Implicit']\", \"['Albanian', 'arrested', 'recruitment']\", \"['UK', 'ups', 'EU']\", \"['Venezuela', 'crush', 'cars']\", \"['Obama', 'Reassure', 'Asia']\", \"['HBO', 'backs', 'comedy']\", \"['House', 'urges', 'Ukraine']\", \"['Modi', 'hails', 'landmark']\", \"['eyesight', 'Action', 'eyesight']\", \"['case', 'leave', 'hospital']\", \"['Police', 'attack', 'protest']\", \"['technician', 'Virginia', 'woman']\", \"['Pentagon', 'dossier', 'policy']\", \"['Russia', 'concerned', 'Ukraine']\", \"['Brown', 'admits', 'violation']\", \"['Coastguards', 'save', 'migrant']\", \"['snow', 'shuts', 'Jerusalem']\", \"['Britain', 'support', 'says']\", \"['Korea', 'takes', 'Whitehall']\", \"['Canada', 'Canada', 'Canada']\", \"['Navy', 'unmanned', 'vehicles']\", \"['Greek', 'lead', 'EU']\", \"['Government', 'hikes', 'commission']\", \"['Austrian', 'married', 'model']\", \"['woman', 'death', 'Sudan']\", \"['murderer', 'held', 'UK']\", \"['German', 'Scared', 'Google']\", \"['operation', 'killed', 'chiefs']\", \"['UK', 'favors', 'military']\", \"['deer', 'born', 'Spain']\", \"['Del', 'promises', 'criminals']\", \"['US', 'anticipate', 'breakthrough']\", \"['Supporters', 'Rally', 'Speaker']\", \"['UN', 'warns', 'rights']\", \"['Ukraine', 'increasingly', 'Ukraine']\", \"['Full', 'recovery', 'recovery']\", \"['player', 'allergic', 'SWEAT']\", \"['U.S.', 'offers', 'U.S.']\", \"['Dolphins', 'rescue', 'shark']\", \"['crashed', 'crashed', 'coast']\", \"['wiretaps', 'scrutiny', 'appeal']\", \"['Landslide', 'threatens', 'homes']\", \"['Boston', 'Boston', 'anniversary']\", \"['outbreak', 'spreads', 'case']\", \"['Arabia', 'replaces', 'chief']\", \"['We', 'failed', 'We']\", \"['schoolgirls', 'kidnapped', 'unknown']\", \"['Pfizer', 'drops', 'bid']\", \"['UN', 'Rwanda', 'inaction']\", \"['whitefish', 'causing', 'Great']\", \"['lanterns', 'launched', 'Wee']\", \"['parliament', 'cultivation', 'maize']\", \"['Cairo', 'police', 'officer']\", \"['restaurant', 'advertises', 'REAL']\", \"['Train', 'carrying', 'crude']\", \"['Amazon.com', 'sales', 'Implicit']\", \"['Obama', 'killing', 'citizens']\", \"['Explosions', 'kill', 'Kenya']\", \"['Jacob', 'poverty', 'anger']\", \"['weather', 'threatens', 'weather']\", \"['U.S.', 'not', 'Russia']\", \"['Behind', 'low', 'education']\", \"['Ruppert', 'commits', 'Michael']\", \"['plunges', 'cold', 'UK']\", \"['Hamas', 'ditches', 'Syrian']\", \"['Germans', 'Remembers', 'Holocaust']\", \"['Apple', 'Sells', 'iPhones']\", \"['pipeline', 'delayed', 'elections']\", \"['seizure', 'lacks', 'justification']\", \"['woman', 'death', 'death']\", \"['PM', 'suspects', 'victory']\", \"['CUPS', 'allows', 'New']\", \"['Russian', 'withdrawal', 'Russian']\", \"['Senators', 'introduce', 'bill']\", \"['Boko', 'release', 'girls']\", \"['plans', 'investment', 'durables']\", \"['Clinton', 'says', 'Assad']\", \"['plane', 'assessed', 'assessed']\", \"['president', 'finding', 'girls']\", \"['children', 'sleep', 'children']\", \"['refuse', 'EU', 'refuse']\", \"['Europe', 'trophy', 'trophy']\", \"['Rhode', 'caused', 'Rhode']\", \"['helicopter', 'crash', 'troops']\", \"['William', 'plagued', 'Rock']\", \"['Barclays', 'leave', 'banker']\", \"['Case', 'Feel', 'Postponed']\", \"['Egypts', 'Egypts', 'trucks']\", \"['man', 'arrested', 'women']\", \"['Pamuk', 'wins', 'prize']\", \"['Cops', 'assaulted', 'girl']\", \"['helping', 'helping', 'blind']\", \"['judge', 'Federal', 'abortion']\", \"['US', 'extends', 'protections']\", \"['girls', 'missing', 'Bodies']\", \"['Ukraine', 'surrenders', 'seeking']\", \"['Bouteflika', 'killed', 'militants']\", \"['Noma', 'regains', 'restaurant']\", \"['crucial', 'America', 'talks']\", \"['Venezuela', 'Talks', 'Government']\", \"['Madeleine', 'disappearance', 'anniversary']\", \"['Diplomat', 'fury', 'Prize']\", \"['Ukraine', 'seeks', 'vain']\", \"['Merkel', 'says', 'Italy']\", \"['Race', 'Succeed', 'Heats']\", \"['Mom', 'caught', 'trying']\", \"['U.S.', 'recognizes', 'offices']\", \"['California', 'drought', 'proclamation']\", \"['gadgets', 'tech', 'show']\", \"['Journalists', 'Capture', 'Insurgents']\", \"['naming', 'ends', 'season']\", \"['companies', 'islands', 'tax']\", \"['Putin', 'replace', 'Ukraine']\", \"['Prince', 'head', 'barbecue']\", \"['Footage', 'shows', 'Russia']\", \"['Crowdsourcing', 'motion', 'mechanism']\", \"['Ballplayers', 'tweet', 'stir']\", \"['Democrats', 'relieved', 'plan']\", \"['Miley', 'cancels', 'concert']\", \"['BBC', 'banned', 'documentary']\", \"['pope', 'gets', 'Devil']\", \"['agency', 'audit', 'charters']\", \"['Mob', 'Kills', 'Father']\", \"['Clinton', 'Looks', 'Term']\", \"['Hostage', 'terror', 'shield']\", \"['Obama', 'visits', 'community']\", \"['Ballet', 'marries', 'dancers']\", \"['Paedophile', 'Implicit', 'Worst']\", \"['movie', 'takes', '1']\", \"['Bank', 'China', 'China']\", \"['Morrissey', 'cheer', 'Eurovision']\", \"['Members', 'Visit', 'American']\", \"['Coalition', 'Halt', 'Signatures']\", \"['Drop', 'puzzles', 'scientists']\", \"['winter', 'led', 'dish']\", \"['Danaher', 'Unveils', 'Plan']\", \"['head', 'rule', 'bailout']\", \"['Indian', 'court', 'gender']\", \"['Father', 'murder', 'baby']\", \"['Power', 'turn', 'Bulgaria']\", \"['UN', 'fail', 'will']\", \"['Irish', 'Offered', 'Boston']\", \"['frontrunner', 'energy', 'cautious']\", \"['Egyptian', 'Cites', 'Plot']\", \"['Pending', 'home', 'rise']\", \"['Kiir', 'meet', 'leader']\", \"['U.S.', 'attack', 'attack']\", \"['top', 'denies', 'Teva']\", \"['Factory', 'slips', 'low']\", \"['submarine', 'fire', 'fire']\", \"['U.S.', 'everything', 'Nigeria']\", \"['rigorous', 'test', 'disorder']\", \"['gangs', 'expand', 'food']\", \"['Pope', 'presides', 'Catholics']\", \"['Dres', 'Dres', 'Beats']\", \"['Bomb', 'Hits', 'Nigeria']\", \"['ICRC', 'peace', 'mystery']\", \"['Scouts', 'revoke', 'Boy']\", \"['John', 'has', 'evidence']\", \"['Iran', 'cuts', 'weapons']\", \"['Passengers', 'comment', 'watery']\", \"['President', 'Decries', 'Sovereignty']\", \"['Republicans', 'Mixed', 'Bid']\", \"['Verizon', 'add', 'charge']\", \"['Nasa', 'public', 'future']\", \"['Bob', 'tribute', 'boxer']\", \"['Steve', 'Keep', 'companies']\", \"['Malala', 'Fights', 'Nigerian']\", \"['minister', 'violated', 'truce']\", \"['Arsenal', 'v', 'West']\", \"['Astronaut', 'delivers', 'speech']\", \"['Syrias', 'tide', 'tide']\", \"['experts', 'advise', 'Ukraine']\", \"['shoppers', 'welcome', 'shoppers']\", \"['Killed', 'Blasts', 'Coast']\", \"['sentiment', 'edges', 'high']\", \"['mom', 'opens', 'gunman']\", \"['France', 'sexual', 'military']\", \"['brothel', 'fire', 'fire']\", \"['Protesters', 'storm', 'building']\", \"['biographer', 'defend', 'record']\", \"['Malaysia', 'detains', 'suspected']\", \"['pubs', 'worth', 'calories']\", \"['Turkish', 'investigate', 'Erdogan']\", \"['Bishops', 'Cancel', 'Study']\", \"['Uganda', 'advantage', 'chaos']\", \"['WikiLeaks', 'hacked', 'rules']\", \"['Soldiers', 'Protest', 'Obstacles']\", \"['Officer', 'Is', 'Killed']\", \"['heart', 'problems', 'heart']\", \"['Russias', 'moves', 'shudders']\", \"['Clinton', 'Honors', 'Medal']\", \"['Chambliss', 'break', 'lobbyist']\", \"['couple', 'left', 'coins']\", \"['bombs', 'kill', 'Pakistan']\", \"['Europe', 'Finds', 'Coal']\", \"['West', 'struggles', 'West']\", \"['Police', 'Arrest', 'Murder']\", \"['Ukraine', 'war', 'troops']\", \"['militants', 'kidnap', 'militants']\", \"['US', 'confirms', 'Mers']\", \"['Iraqis', 'embrace', 'campaigns']\", \"['Europe', 'Tries', 'People']\", \"['US', 'help', 'Nigeria']\", \"['Strike', 'Kill', 'Three']\", \"['doctors', 'transplants', 'heart']\", \"['Buffett', 'annual', 'gathering']\", \"['woman', 'executed', 'rapist']\", \"['POM', 'rejects', 'advertising']\", \"['California', 'sees', 'whooping']\", \"['bomb', 'killed', 'car']\", \"['John', 'lifted', 'Court']\", \"['migrants', 'dead', 'migrants']\", \"['Russian', 'German', 'Schalke']\", \"['Merkel', 'rules', 'over']\", \"['Egypt', 'issues', 'challenges']\", \"['Wall', 'back', 'flat']\", \"['supplies', 'supplies', 'fungus']\", \"['Chrome', 'Wins', 'Derby']\", \"['Pork', 'Giant', 'Group']\", \"['Nakba', 'clashes', 'Bank']\", \"['profit', 'profit', 'profit']\", \"['Austrian', 'slips', 'resort']\", \"['Syria', 'shown', 'photos']\", \"['Egypts', 'Coptic', 'Easter']\", \"['Syrian', 'Weapons', 'Weapons']\", \"['Rio', 'worst', 'VP']\", \"['Syria', 'violence', 'Arab']\", \"['Russia', 'killed', 'militants']\", \"['North', 'lash', 'North']\", \"['diplomat', 'detained', 'March']\", \"['Fed', 'appropriate', 'stimulus']\", \"['teacher', 'arrested', 'student']\", \"['judge', 'tell', 'McMillan']\", \"['Russia', 'suggests', 'U.S.']\", \"['Court', 'refuses', 'appeal']\", \"['ceasefire', 'ceasefire', 'Sudan']\", \"['Student', 'fire', 'high']\", \"['cleric', 'ends', 'protest']\", \"['Dog', 'lost', 'owners']\", \"['Combs', 'given', 'honorary']\", \"['Ranbaxy', 'recalls', 'generic']\", \"['Alito', 'recusal', 'TV']\", \"['Firefighters', 'made', 'Colorado']\", \"['Rio', 'Preparations', 'Blank']\", \"['Brain', 'implants', 'RESTORE']\", \"['challenges', 'challenges', 'land']\", \"['Republicans', 'raise', 'Benghazi']\", \"['Man', 'kicked', 'train']\", \"['celebrations', 'soccer', 'ended']\", \"['Putin', 'Ignore', 'Ukraine']\", \"['leader', 'rips', 'president']\", \"['PM', 'warns', 'Moldova']\", \"['Adams', 'urges', 'release']\", \"['Three', 'killed', 'blast']\", \"['Bizarre', 'rumors', 'Dhabi']\", \"['Odessa', 'bombarded', 'bombs']\", \"['Victims', 'Appeal', 'Implicit']\", \"['Report', 'put', 'development']\", \"['police', 'find', 'explosives']\", \"['Dominos', 'rolls', 'pizza']\", \"['inflation', 'Implicit', 'point']\", \"['Hou', 'glamorous', 'Champion']\", \"['citizens', 'arrested', 'Yemen']\", \"['Schoolgirls', 'Kidnapped', 'Groups']\", \"['Argentine', 'Inflation', 'March']\", \"['Harry', 'dance', 'pals']\", \"['Russia', 'Using', 'Weapons']\", \"['UK', 'sexist', 'country']\", \"['Restive', 'grasp', 'grasp']\", \"['Alaska', 'arrested', 'troopers']\", \"['Kenyan', 'accused', 'tensions']\", \"['Madame', 'Butterfly', 'Scenes']\", \"['Deadly', 'Fire', 'Star']\", \"['Mexico', 'arrests', 'murderer']\", \"['Globes', 'way', 'their']\", \"['Harry', 'is', 'king']\", \"['Nasa', 'shown', 'Nasa']\", \"['French', 'Arrested', 'drugs']\", \"['Tiger', 'Debut', 'Tiger']\", \"['Americas', 'richest', 'CANADIANS']\", \"['Snowden', 'Russia', 'Russia']\", \"['record', 'new', 'record']\", \"['found', 'missing', 'ship']\", \"['Defense', 'turn', 'Pistorius']\", \"['earthquake', 'shakes', 'Strong']\", \"['astronaut', 'sets', 'record']\", \"['passenger', 'passenger', 'killing']\", \"['Karsai', 'reconciling', 'Taliban']\", \"['China', 'spending', 'Blank']\", \"['poster', 'riles', 'embassy']\", \"['doctor', 'freed', 'Implicit']\", \"['season', 'promised', 'whimper']\", \"['House', 'Silence', 'Jones']\", \"['Barbour', 'Defends', 'Gingrich']\", \"['U.S.', 'Help', 'Assets']\", \"['Water', 'Begins', 'Rationing']\", \"['Fears', 'Missing', 'Ferry']\", \"['firms', 'oppose', 'neutrality']\", \"['bombers', 'exclude', 'statements']\", \"['Leaders', 'Threatens', 'Leaders']\", \"['Bidini', 'tweets', 'couples']\", \"['chairman', 'results', 'CEO']\", \"['Japanese', 'fights', 'grime']\", \"['Bosnia', 'emergency', 'floods']\", \"['protester', 'convicted', 'assault']\", \"['doctors', 'punish', 'Iran']\", \"['witnesses', 'Blast', 'Nigerian']\", \"['Tornadoes', 'sweep', 'US']\", \"['Sudan', 'agrees', 'ceasefire']\", \"['plant', 'perform', 'ritual']\", \"['government', 'inherit', 'economy']\", \"['plane', 'forced', 'cracks']\", \"['Iran', 'denies', 'Bahrains']\", \"['4', 'Break', 'Blank']\", \"['Egypt', 'president', 'president']\", \"['Militia', 'Controls', 'Weapons']\", \"['Germanys', 'Merkel', 'Ukraine']\", \"['Friends', 'send', 'Friends']\", \"['Rakesh', 'angry', 'angry']\", \"['Separatists', 'humiliating', 'vehicles']\", \"['commander', 'dead', 'strike']\", \"['leap', 'Britain', 'leap']\", \"['Nightly', 'Pay', 'Afghan']\", \"['Huawei', 'offered', 'Iran']\", \"['clampdown', 'clampdown', 'voting']\", \"['Israeli', 'dies', 'Dayan']\", \"['Ukraine', 'answer', 'Ukraine']\", \"['Steve', 'trial', 'companies']\", \"['Flight', 'engine', 'landing']\", \"['stores', 'Cracking', 'code']\", \"['says', 'handover', 'ambassador']\", \"['Five', 'floods', 'Bosnia']\", \"['CEO', 'pays', 'acquisitions']\", \"['Everest', 'Cancelled', 'Deadly']\", \"['Leader', 'Sorry', 'Clinton']\", \"['Nelson', 'improving', 'birthday']\", \"['Obamas', 'read', 'read']\", \"['Climber', 'dies', 'McKinley']\", \"['Hillarys', 'derail', 'bid']\", \"['U.S.', 'readies', 'Ukraine']\", \"['Man', 'rides', 'bike']\", \"['Rio', 'Hits', 'Rio']\", \"['French', 'lose', 'virus']\", \"['Obama', 'skepticism', 'budget']\", \"['Ukraine', 'attack', 'positions']\", \"['tornadoes', 'kill', 'South']\", \"['China', 'preparations', 'landing']\", \"['Court', 'Takes', 'Tests']\", \"['Photos', 'Foreshadow', 'Future']\", \"['Rouhani', 'suggests', 'benefited']\", \"['EU', 'Ban', 'EU']\", \"['Google', 'record', 'skydive']\", \"['patriotic', 'backing', 'Modi']\", \"['Police', 'get', 'Adams']\", \"['Airbus', 'create', 'construction']\", \"['Nature', 'Becomes', 'Kong']\", \"['agents', 'raid', 'dealers']\", \"['Israelis', 'talks', 'talks']\", \"['chief', 'run', 'Egyptian']\", \"['Mombasa', 'Hit', 'Blasts']\", \"['president', 'fire', 'fire']\", \"['chiefs', 'France', 'chiefs']\", \"['Elisabeth', 'looks', 'Tribeca']\", \"['nurses', 'free', 'virus']\", \"['U.S.', 'Dream', 'Financial']\", \"['architect', 'replaced', 'policy']\", \"['Ukraine', 'Suspends', 'Operation']\", \"['Apache', 'crashes', 'helicopter']\", \"['Bob', 'Rolling', 'auction']\", \"['Facebook', 'building', 'Facebook']\", \"['Minnesota', 'Guilty', 'Teen']\", \"['military', 'killings', 'Ukraine']\", \"['memoir', 'Holocaust', 'return']\", \"['Tensions', 'Boil', 'Camera']\", \"['Disneyland', 'ordered', 'cleavage']\", \"['Africa', 'veiled', 'dust']\", \"['Battleground', 'Blurs', 'Lines']\", \"['Senate', 'banking', 'sellers']\", \"['shares', 'fall', 'stake']\", \"['diplomats', 'hunts', 'Blackwater']\", \"['Paul', 'took', 'patients']\", \"['Moderate', 'drinking', 'heart']\", \"['man', 'evaluation', 'hoax']\", \"['DNA', 'cases', 'cases']\", \"['Obama', 'votes', 'push']\", \"['anniversary', 'sweet', 'anniversary']\", \"['storm', 'hits', 'Mideast']\", \"['Search', 'Search', 'Off']\", \"['Pistorius', 'accused', 'girlfriend']\", \"['Kiev', 'Helpless', 'Restore']\", \"['Iraq', 'shuts', 'Ghraib']\", \"['was', 'FOUR', 'FOUR']\", \"['voters', 'favor', 'public']\", \"['Nepal', 'crash', 'bus']\", \"['Devastation', 'Devastation', 'Tacloban']\", \"['Whirlpool', 'accuses', 'dumping']\", \"['Man', 'held', 'banana']\", \"['We', 'using', 'chemicals']\", \"['Arabia', 'executes', 'maid']\", \"['Dells', 'defends', 'company']\", \"['Gingrich', 'Turned', 'Investigators']\", \"['Afghans', 'deadly', 'floods']\", \"['Pennsylvania', 'fired', 'worker']\", \"['Khamenei', 'tightening', 'Ahmadinejad']\", \"['publishers', 'part', 'ADIBF']\", \"['Implicit', 'agrees', 'Implicit']\", \"['actions', 'highlight', 'limits']\", \"['Rules', 'Eyed', 'Abuse']\", \"['Earthquake', 'Jolts', 'Tokyo']\", \"['Hacker', 'takes', 'baby']\", \"['Malaysia', 'charges', 'IS']\", \"['Napoleons', 'stolen', 'museum']\", \"['Dawn', 'gets', 'poll']\", \"['teacher', 'sent', 'students']\", \"['Clinton', 'Awards', 'Medals']\", \"['Exhibition', 'traces', 'tattoos']\", \"['A', 'To', 'Election']\", \"['Calls', 'kidnap', 'against']\", \"['photos', 'photos', 'photos']\", \"['3', 'Killed', 'Kenyan']\", \"['Government', 'Boosts', 'Plan']\", \"['party', 'clears', 'government']\", \"['Drops', 'Case', 'Case']\", \"['driver', 'the', 'the']\", \"['Korean', 'Rises', 'Prosecutors']\", \"['new', 'new', 'Implicit']\", \"['jihad', 'identified', 'Portuguese']\", \"['Soldiers', 'Vow', 'Protesting']\", \"['Iran', 'Escalates', 'Dispute']\", \"['troops', 'kill', 'militants']\", \"['Underground', 'posting', 'blogger']\", \"['Insurgents', 'declare', 'independence']\", \"['Man', 'way', 'elevator']\", \"['Ukraine', 'showcases', 'revamp']\", \"['Obama', 'damage', 'Senate']\", \"['McCann', 'suspect', 'attacks']\", \"['witness', 'Sleeping', 'Pistorius']\", \"['Noma', 'Top', 'Top']\", \"['Senior', 'hacking', 'phone']\", \"['Mexican', 'Sets', 'Regulator']\", \"['Angie', 'engaged', 'elevator']\", \"['Divers', 'find', 'ferry']\", \"['activist', 'disturbance', 'charge']\", \"['Police', 'stolen', 'shelter']\", \"['Germany', 'blocked', 'exports']\", \"['Korea', 'scuffle', 'border']\", \"['restaurant', 'order', 'servers']\", \"['Israeli', 'Refuse', 'Spy']\", \"['leak', 'ends', 'Dangerous']\", \"['Bullard', 'sees', 'inflation']\", \"['Island', 'Is', 'Up']\", \"['U.N.', 'seeks', 'warlord']\", \"['Further', 'consolation', 'critics']\", \"['tomato', 'fight', 'embargo']\", \"['body', 'body', 'Casserly']\", \"['Egypts', 'resigns', 'leader']\", \"['Ravenel', 'welcome', 'baby']\", \"['Russia', 'expects', 'condemnation']\", \"['U.S.', 'breakthrough', 'Russia']\", \"['separatists', 'separatists', 'humiliate']\", \"['Pakistan', 'Arrested', 'Blank']\", \"['talks', 'face', 'talks']\", \"['Algerians', 'go', 'president']\", \"['Briton', 'cleared', 'claims']\", \"['Rhode', 'injured', 'collapse']\", \"['Russia', 'challenges', 'rules']\", \"['Pakistan', 'Shot', 'Gunmen']\", \"['bodies', 'discovered', 'hillside']\", \"['House', 'locked', 'joins']\", \"['Iraqi', 'Concerns', 'remain']\", \"['Jobless', 'claims', 'claims']\", \"['Journalists', 'Kidnapped', 'Delighted']\", \"['plane', 'smoke', 'cockpit']\", \"['Deadly', 'revenge', 'Kenya']\", \"['Ukrainians', 'Turn', 'Arts']\", \"['training', 'training', 'pans']\", \"['over', 'Republican', 'senators']\", \"['Students', 'Design', 'Car']\", \"['Chile', 'end', 'rules']\", \"['man', 'confesses', 'murders']\", \"['Irish', 'Jail', 'Irish']\", \"['Russias', 'delighted', 'Syria']\", \"['Women', 'Use', 'Harassment']\"]\n"
     ]
    }
   ],
   "source": [
    "print(events)"
   ]
  },
  {
   "cell_type": "code",
   "execution_count": 37,
   "metadata": {
    "scrolled": true
   },
   "outputs": [
    {
     "name": "stdout",
     "output_type": "stream",
     "text": [
      "['SoftBank', 'slams', 'Sprint']\n",
      "SoftBank slams Dish's Sprint bid, rules out sweeteners\n",
      "\n",
      "==========\n",
      "[['nervous', 1.5228632203933565], ['sorry', 2.2351279351722626], ['careless', 2.6593780838039605], ['angry', 2.955392762887054], ['aggressive', 2.9670464611018623], ['defensive', 3.284686150514013], ['cautious', 3.8785510157051006], ['thanks', 4.88598764934857], ['happy', 5.323903880355082], ['calm', 5.524953440803924]]\n",
      "**********\n",
      "[['nervous', 2.229046947879496], ['aggressive', 2.6201100851453765], ['sorry', 3.092877684756126], ['angry', 3.206688305379887], ['defensive', 3.7748277236475913], ['careless', 3.781074862452106], ['cautious', 4.161669832018964], ['happy', 4.933701697767905], ['thanks', 5.026989576680812], ['calm', 5.659944194418116]]\n",
      "==========\n",
      "[['aggressive', 0.509259232426872], ['defensive', 1.7553659812170754], ['sorry', 1.964489082686633], ['cautious', 2.083338259566729], ['nervous', 2.1412253614267382], ['thanks', 3.2233975709212737], ['happy', 3.2692657246298644], ['careless', 3.2823233676407852], ['angry', 3.7687153513852474], ['calm', 3.8062914297148667]]\n",
      "**********\n",
      "[['aggressive', 0.9927320756523467], ['sorry', 1.6290057342390944], ['defensive', 1.6673209718519844], ['nervous', 1.7163729435121151], ['cautious', 2.074568255733616], ['careless', 2.9946773004314844], ['thanks', 3.190247526632628], ['happy', 3.439182325224933], ['angry', 3.612387043906072], ['calm', 3.824064725981024]]\n",
      "==========\n",
      "['Bomb', 'kills', 'Iran']\n",
      "Bomb kills 18 on military bus in Iran\n",
      "\n",
      "==========\n",
      "[['careless', 1.6304958195795245], ['sorry', 2.7797227563810614], ['nervous', 2.780728424590789], ['angry', 2.783403325978093], ['defensive', 4.17855993213833], ['aggressive', 4.344406787608479], ['cautious', 5.109784728470854], ['thanks', 6.49022510671624], ['calm', 7.017278341852751], ['happy', 7.210612146891528]]\n",
      "**********\n",
      "[['thanks', 1.4655930048024652], ['cautious', 1.6251789133381798], ['happy', 2.074991276903724], ['calm', 2.0796105161481724], ['defensive', 2.2313877171830674], ['aggressive', 2.7481722391618875], ['sorry', 3.3000386148505627], ['nervous', 3.7525151738337126], ['careless', 4.735805632311763], ['angry', 5.74624301035311]]\n",
      "==========\n",
      "[['careless', 0.17995683778281552], ['sorry', 1.3597379770540001], ['nervous', 1.5061269219609525], ['angry', 1.9220701364588813], ['aggressive', 2.7526753882855437], ['defensive', 2.908794821639], ['cautious', 3.9042641451912976], ['thanks', 5.414195153384362], ['happy', 5.956205292983804], ['calm', 5.956875268709401]]\n",
      "**********\n",
      "[['sorry', 1.4408167404287777], ['defensive', 1.5334451622651017], ['aggressive', 1.5806281505508148], ['nervous', 1.7367382286114716], ['cautious', 2.016623198503883], ['careless', 2.7909677132236737], ['thanks', 3.1396621105474067], ['happy', 3.6472189442652034], ['angry', 3.734761725497035], ['calm', 3.768989230018492]]\n",
      "==========\n",
      "['UK', 'Eurovision', 'Implicit']\n",
      "UK Eurovision entry  ready for biggest gig of her life \n",
      "\n",
      "==========\n",
      "[['cautious', 1.584209862416262], ['thanks', 1.6226593964054847], ['happy', 2.01555145248945], ['defensive', 2.128785774972512], ['calm', 2.2665959787579304], ['aggressive', 2.4242605106486415], ['sorry', 3.128135838317246], ['nervous', 3.5059729211978867], ['careless', 4.585631597133656], ['angry', 5.481905809129167]]\n",
      "**********\n",
      "[['cautious', 2.0026753548649765], ['aggressive', 2.0254289428863483], ['happy', 2.0810725956770746], ['thanks', 2.239454585769226], ['defensive', 2.3882125899464812], ['calm', 2.843290948662607], ['sorry', 3.169535520731557], ['nervous', 3.3304108615356904], ['careless', 4.608658593898518], ['angry', 5.167535218571538]]\n",
      "==========\n",
      "[['happy', 2.0929882750389384], ['thanks', 2.6962457459582634], ['cautious', 3.1238942502691933], ['calm', 3.151561622627951], ['aggressive', 3.311635548421139], ['defensive', 3.6877741074843615], ['sorry', 4.485855986870209], ['nervous', 4.511180537083115], ['careless', 5.892368526554344], ['angry', 6.272700411750363]]\n",
      "**********\n",
      "[['aggressive', 2.1595708454852125], ['cautious', 2.2527801632183384], ['happy', 2.283572006746486], ['thanks', 2.458193590037639], ['defensive', 2.5876466687725146], ['calm', 3.0628322936345502], ['sorry', 3.248537922305709], ['nervous', 3.3143170209513824], ['careless', 4.656828269132463], ['angry', 5.139390222369745]]\n",
      "==========\n",
      "['families', 'claim', 'sabotage']\n",
      "9/11 families claim FBI spying on Guant?mo legal team  sabotage \n",
      "\n",
      "==========\n",
      "[['happy', 1.5340606898128772], ['thanks', 2.572407956604757], ['calm', 2.835803762134249], ['cautious', 3.135607799663135], ['aggressive', 3.4952383476608766], ['defensive', 3.838441658808237], ['sorry', 4.913544332436466], ['nervous', 5.13650325055921], ['careless', 6.357408305933554], ['angry', 6.817021575181261]]\n",
      "**********\n",
      "[['happy', 2.942214833726742], ['thanks', 3.9783747759471666], ['aggressive', 4.194522385645466], ['calm', 4.246061744013909], ['cautious', 4.352775113004081], ['defensive', 4.8909871694156415], ['nervous', 5.679702578709455], ['sorry', 5.690213842966853], ['careless', 7.0232291939629965], ['angry', 7.117313693930588]]\n",
      "==========\n",
      "[['aggressive', 1.3536374923331265], ['cautious', 1.8669495429546934], ['defensive', 2.023530755619023], ['happy', 2.431481856958486], ['thanks', 2.5508246656585483], ['sorry', 2.7040396331134495], ['nervous', 2.899541702148684], ['calm', 3.1407965549677903], ['careless', 4.120561088682961], ['angry', 4.646252624871109]]\n",
      "**********\n",
      "[['aggressive', 0.8592059039344802], ['defensive', 1.6818732019280602], ['sorry', 1.9300719586415562], ['cautious', 1.9368917402038814], ['nervous', 2.0730801993417853], ['thanks', 2.9849809925166597], ['happy', 3.12201821241885], ['careless', 3.3189296902655787], ['calm', 3.607553568807606], ['angry', 3.888741568117114]]\n",
      "==========\n",
      "['Bundys', 'rant', 'rant']\n",
      "Nevada rancher Cliven Bundy's shocking racist rant\n",
      "\n",
      "==========\n",
      "[['careless', 1.5535777004197795], ['sorry', 2.5114021663850727], ['nervous', 3.0859319492960187], ['angry', 3.199753641659922], ['defensive', 3.56399093003047], ['aggressive', 3.8787742347955723], ['cautious', 4.534592401309095], ['thanks', 6.049384277727618], ['calm', 6.487253895641561], ['happy', 6.755101790888823]]\n",
      "**********\n",
      "[['sorry', 1.3301382491397078], ['defensive', 1.360531821221102], ['aggressive', 1.6437382345166929], ['careless', 2.2375078197309626], ['cautious', 2.280527538924867], ['nervous', 2.36739696639261], ['angry', 3.594248079263509], ['thanks', 3.8519884590852715], ['calm', 4.298264756883951], ['happy', 4.363003675217007]]\n",
      "==========\n",
      "[['sorry', 0.2478920861695766], ['nervous', 0.9928211004087684], ['aggressive', 1.525490800316859], ['careless', 1.5994035032193628], ['defensive', 1.6921752920629547], ['cautious', 2.6033141982332326], ['angry', 2.743437447174741], ['thanks', 4.044139575741792], ['happy', 4.5464187501795434], ['calm', 4.624342594739137]]\n",
      "**********\n",
      "[['sorry', 0.5547717312597242], ['defensive', 1.3973340373843843], ['aggressive', 1.4844205855915373], ['nervous', 1.6433121705699698], ['careless', 1.7084502581997238], ['cautious', 2.396365553398885], ['angry', 3.0679366801864423], ['thanks', 3.9467256663185135], ['calm', 4.467914762285355], ['happy', 4.475539184028538]]\n",
      "==========\n",
      "['fertilizer', 'eyes', 'fertilizer']\n",
      "Texas town eyes new fertilizer plant a year after deadly blast\n",
      "\n",
      "==========\n",
      "[['careless', 4.876383796396087], ['sorry', 5.907368412861628], ['angry', 5.986085490110502], ['nervous', 6.150807485857504], ['defensive', 6.913709672974909], ['aggressive', 7.484268289361717], ['cautious', 7.729064358916761], ['thanks', 8.94509759446738], ['calm', 9.346316484454452], ['happy', 9.886999851156284]]\n",
      "**********\n",
      "[['careless', 3.925814216241364], ['sorry', 4.978918814320558], ['angry', 5.170161591195617], ['nervous', 5.30739504567796], ['defensive', 5.986843327775706], ['aggressive', 6.537313222891732], ['cautious', 6.840970197679925], ['thanks', 8.136926868395921], ['calm', 8.54057245456748], ['happy', 9.044533598629437]]\n",
      "==========\n",
      "[['aggressive', 0.5834063897174444], ['defensive', 1.249732054642084], ['sorry', 1.5250614146408126], ['cautious', 1.7135627271223552], ['nervous', 1.9123638920291204], ['careless', 2.968539069269197], ['thanks', 2.9809304206801372], ['happy', 3.256839698004944], ['calm', 3.585661193102183], ['angry', 3.74202873820334]]\n",
      "**********\n",
      "[['defensive', 1.1548188460109445], ['aggressive', 1.1602455880922935], ['sorry', 1.2112975850659182], ['nervous', 1.718502379967715], ['cautious', 1.7606464642449744], ['careless', 2.6740785470639628], ['thanks', 3.049703960591545], ['happy', 3.527950639302643], ['calm', 3.662333347348095], ['angry', 3.6686695287344113]]\n",
      "==========\n",
      "['Masks', 'in', 'Ukraine']\n",
      "Behind the Masks in Ukraine, Many Faces of Rebellion\n",
      "\n",
      "==========\n",
      "[['aggressive', 2.2513868908924803], ['cautious', 2.880120837673457], ['defensive', 3.0184681437561323], ['happy', 3.0627414426393336], ['thanks', 3.528765537229874], ['sorry', 3.776483629268492], ['calm', 3.862279930418266], ['nervous', 4.1160293244683315], ['careless', 4.962099450315814], ['angry', 5.336244372911657]]\n",
      "**********\n",
      "[['aggressive', 1.385826823917829], ['cautious', 1.8954548579783574], ['defensive', 2.071966070471665], ['happy', 2.4304887331414764], ['thanks', 2.668200769911119], ['sorry', 2.9349514173990547], ['calm', 3.1471743788445976], ['nervous', 3.3028427790620727], ['careless', 4.300097381341434], ['angry', 4.863075266947307]]\n",
      "==========\n",
      "[['aggressive', 1.7685436327445652], ['cautious', 2.2531728967718423], ['happy', 2.3207956286903357], ['defensive', 2.5179008242279246], ['thanks', 2.69897072334353], ['sorry', 3.2227628961586965], ['calm', 3.234916863149042], ['nervous', 3.3554711419022114], ['careless', 4.604495806486255], ['angry', 4.9984145647054605]]\n",
      "**********\n",
      "[['aggressive', 2.0922213838544876], ['happy', 2.1334676773228862], ['cautious', 2.3732130595819405], ['thanks', 2.607062976239286], ['defensive', 2.741328566950144], ['calm', 3.1295412807274525], ['sorry', 3.502781005298986], ['nervous', 3.6206295430392195], ['careless', 4.9000375795314906], ['angry', 5.291523567621998]]\n",
      "==========\n",
      "['speaker', 'offers', 'pension']\n",
      "Illinois House speaker offers comprehensive pension fix\n",
      "\n",
      "==========\n",
      "[['happy', 2.1769200719586648], ['thanks', 2.9087559893809396], ['aggressive', 3.1179364477937694], ['cautious', 3.166306536941259], ['calm', 3.3509880611866367], ['defensive', 3.6759745867105327], ['sorry', 4.443966312300734], ['nervous', 4.452802803058437], ['careless', 5.831378090721027], ['angry', 6.115432611096838]]\n",
      "**********\n",
      "[['happy', 2.5215442465602926], ['aggressive', 2.5400844396182647], ['cautious', 2.94012076443199], ['thanks', 3.0434638026929473], ['defensive', 3.267970878936069], ['calm', 3.571552851108161], ['nervous', 3.768675124945108], ['sorry', 3.840366517261884], ['careless', 5.181759762128345], ['angry', 5.399082879060082]]\n",
      "==========\n",
      "[['happy', 2.455793485355133], ['aggressive', 2.4889230036831815], ['cautious', 2.9389604015557187], ['thanks', 3.0812780576699], ['defensive', 3.2792057764123217], ['calm', 3.567188324534698], ['nervous', 3.9137667545789236], ['sorry', 3.922050593979604], ['careless', 5.261681974936019], ['angry', 5.472879757711483]]\n",
      "**********\n",
      "[['aggressive', 1.7657258887521137], ['cautious', 2.31088050397375], ['happy', 2.459530764739643], ['defensive', 2.526788599918071], ['thanks', 2.767008499281799], ['sorry', 3.1241236766207465], ['nervous', 3.1804530149053516], ['calm', 3.337013833847613], ['careless', 4.497862460229269], ['angry', 4.861761942255093]]\n",
      "==========\n",
      "['claim', 'claim', 'claim']\n",
      "Sex claim shows desperation of Malaysia's rulers, says top opponent\n",
      "\n",
      "==========\n",
      "[['happy', 2.3743430318822405], ['aggressive', 3.1967946239039633], ['thanks', 3.2620142215325063], ['cautious', 3.4132269576533742], ['calm', 3.6290654572785295], ['defensive', 3.894569720538162], ['sorry', 4.688084987988781], ['nervous', 4.732654887920736], ['careless', 6.041264441193158], ['angry', 6.245987572124746]]\n",
      "**********\n",
      "[['defensive', 2.042258714483758], ['sorry', 2.059121072797247], ['aggressive', 2.1817364760434286], ['nervous', 2.1869786703319414], ['cautious', 2.2924394330494158], ['thanks', 3.108519357603478], ['careless', 3.2887950466950526], ['happy', 3.639856253352533], ['calm', 3.743106455812408], ['angry', 4.163242470846022]]\n",
      "==========\n",
      "[['happy', 2.258511275854337], ['aggressive', 2.660135199030076], ['cautious', 2.940428779328586], ['thanks', 2.9507624388369846], ['defensive', 3.3588223882390986], ['calm', 3.4116596175044647], ['sorry', 4.090917669260548], ['nervous', 4.124281500741593], ['careless', 5.457133422788795], ['angry', 5.716714592762393]]\n",
      "**********\n",
      "[['aggressive', 1.2741056138612334], ['cautious', 1.5477067090874799], ['defensive', 1.6052670749006908], ['sorry', 2.2855604277257346], ['thanks', 2.4028958395365128], ['nervous', 2.573592375213046], ['happy', 2.5781247306414365], ['calm', 3.036904991336031], ['careless', 3.7452689064732794], ['angry', 4.460001921560703]]\n",
      "==========\n",
      "['earthquake', 'strikes', 'Chile']\n",
      "Massive earthquake strikes Chile\n",
      "\n",
      "==========\n",
      "[['aggressive', 1.5288729810088622], ['nervous', 2.294608804127637], ['sorry', 2.5326849615632767], ['defensive', 2.9204504207375495], ['angry', 3.1716153216263847], ['careless', 3.3402008630815723], ['cautious', 3.3990093144511273], ['happy', 4.43500012333662], ['thanks', 4.554557286951353], ['calm', 5.102273266780301]]\n",
      "**********\n",
      "[['happy', 2.9694224522769375], ['aggressive', 2.9835526998865105], ['cautious', 3.497648982190048], ['thanks', 3.5426796946053765], ['defensive', 3.789762389762824], ['nervous', 4.0146767850043785], ['calm', 4.057749065038977], ['sorry', 4.225961434522579], ['careless', 5.501431032835742], ['angry', 5.552259069631607]]\n",
      "==========\n",
      "[['aggressive', 0.5578108525326743], ['sorry', 1.8563960707083564], ['defensive', 1.9285479577428701], ['nervous', 2.0450089987732536], ['cautious', 2.441403828300508], ['careless', 2.995538297283538], ['angry', 3.40903972776322], ['thanks', 3.716940256911628], ['happy', 3.771008042472609], ['calm', 4.2651340721689035]]\n",
      "**********\n",
      "[['aggressive', 1.2602279724195242], ['defensive', 2.072224968088021], ['nervous', 2.1638386595929573], ['sorry', 2.216572813951544], ['cautious', 2.241883092204274], ['thanks', 3.11390902834521], ['happy', 3.177409742079049], ['careless', 3.5447633535698833], ['calm', 3.7491519145213528], ['angry', 3.9664935259021776]]\n",
      "==========\n",
      "['family', 'united', 'fight']\n",
      "Jay Z family united despite fight\n",
      "\n",
      "==========\n",
      "[['happy', 1.6914482249795961], ['thanks', 2.272462223380703], ['cautious', 2.3946130339352836], ['aggressive', 2.5319778853692827], ['calm', 2.7635863357553907], ['defensive', 2.942756346142187], ['sorry', 3.8620351285473262], ['nervous', 4.036765482039122], ['careless', 5.301601702292029], ['angry', 5.78449057579547]]\n",
      "**********\n",
      "[['sorry', 0.7842273673504873], ['careless', 1.566200458825377], ['defensive', 1.6799451307423576], ['nervous', 1.8083426732490637], ['aggressive', 2.181141724441476], ['cautious', 2.633565281252744], ['angry', 3.24841031193259], ['thanks', 4.0985723072575055], ['calm', 4.613484907037854], ['happy', 4.798963300356589]]\n",
      "==========\n",
      "[['happy', 2.0251366569936065], ['aggressive', 2.2522820206436447], ['cautious', 2.3621316955886202], ['thanks', 2.466090292677709], ['defensive', 2.7843202833160046], ['calm', 3.006061224587937], ['sorry', 3.565836316920966], ['nervous', 3.674913235326546], ['careless', 4.981372306597528], ['angry', 5.410375534385339]]\n",
      "**********\n",
      "[['sorry', 1.0743602489075184], ['defensive', 1.4419702510047654], ['nervous', 1.6264623232029618], ['aggressive', 1.7517954758323837], ['cautious', 2.1304377548465534], ['careless', 2.3697656185569875], ['thanks', 3.3905205165681243], ['angry', 3.556867464457701], ['calm', 3.9871050213538917], ['happy', 4.0099951527099815]]\n",
      "==========\n",
      "['Kimchi', 'dies', 'overdose']\n",
      "Kimchi Truong, 24, dies from overdose after collapsing at Coachella\n",
      "\n",
      "==========\n",
      "[['aggressive', 1.4919607795917411], ['cautious', 1.5521710646058082], ['defensive', 1.8074586486047708], ['thanks', 2.200218349151618], ['happy', 2.2530606030880524], ['sorry', 2.6321958927848166], ['calm', 2.822480624361529], ['nervous', 2.9229656629361602], ['careless', 4.096611445902461], ['angry', 4.780127468359313]]\n",
      "**********\n",
      "[['aggressive', 1.0501060278074392], ['nervous', 2.302893617068675], ['sorry', 2.3932021642515133], ['defensive', 2.40893530425296], ['cautious', 2.711299152674052], ['careless', 3.5328020786258594], ['happy', 3.614736818166867], ['angry', 3.675148393548019], ['thanks', 3.7388972327989225], ['calm', 4.308176793105579]]\n",
      "==========\n",
      "[['aggressive', 0.6832852849799533], ['sorry', 1.0913403422895775], ['defensive', 1.193612140229411], ['nervous', 1.5891581244739916], ['cautious', 1.8904948890359792], ['careless', 2.5408864282656385], ['thanks', 3.2672939301893], ['angry', 3.419910967568456], ['happy', 3.632332204116795], ['calm', 3.862121711019899]]\n",
      "**********\n",
      "[['aggressive', 1.1065898779081258], ['nervous', 1.4915759437958391], ['sorry', 1.8341847613466415], ['defensive', 2.356723803365436], ['careless', 2.864545850703792], ['cautious', 2.8808591912079784], ['angry', 2.9826958099383294], ['thanks', 4.0439351076954], ['happy', 4.111497518563586], ['calm', 4.655127654039702]]\n",
      "==========\n",
      "['Fabius', 'back', 'EU']\n",
      "France's Fabius says all EU states back its Mali actions\n",
      "\n",
      "==========\n",
      "[['happy', 2.412541238054383], ['aggressive', 2.882915413389151], ['thanks', 2.9920236518808667], ['cautious', 3.087196540177594], ['calm', 3.4951662099991148], ['defensive', 3.5013536963213063], ['nervous', 4.079874773847896], ['sorry', 4.140556575950865], ['careless', 5.500152554640565], ['angry', 5.745187088158285]]\n",
      "**********\n",
      "[['happy', 2.4824956848048974], ['aggressive', 3.27770927824867], ['thanks', 3.290667214177096], ['cautious', 3.49356712583607], ['calm', 3.7067526371620034], ['defensive', 3.960691009274057], ['nervous', 4.62324360105038], ['sorry', 4.667322200884662], ['careless', 6.017630146370933], ['angry', 6.187723691738219]]\n",
      "==========\n",
      "[['happy', 2.4076475683861487], ['thanks', 3.091339930859898], ['aggressive', 3.22329938873409], ['cautious', 3.3366486429294526], ['calm', 3.549799483874719], ['defensive', 3.8102419728685226], ['nervous', 4.439691695235165], ['sorry', 4.497366612326794], ['careless', 5.861718066440705], ['angry', 6.091474069649273]]\n",
      "**********\n",
      "[['happy', 1.5731829124812717], ['thanks', 2.307582269381623], ['cautious', 2.5368939970235047], ['aggressive', 2.730543883004329], ['calm', 2.7393628854925813], ['defensive', 3.133760428710945], ['sorry', 4.11164320125977], ['nervous', 4.311720837709577], ['careless', 5.552214696334063], ['angry', 6.029051439938857]]\n",
      "==========\n",
      "['Hong', 'Readies', 'Vote']\n",
      "Hong Kong Readies for Protester Vote\n",
      "\n",
      "==========\n",
      "[['aggressive', 1.9932160662186886], ['happy', 2.5752844611498276], ['cautious', 2.6007690632455245], ['defensive', 2.834323013750579], ['thanks', 3.099455147120747], ['calm', 3.5269950862540393], ['sorry', 3.5780163781568204], ['nervous', 3.7844911221275463], ['careless', 4.878853448130264], ['angry', 5.210190090440453]]\n",
      "**********\n",
      "[['aggressive', 1.8477884258031487], ['cautious', 2.8835127972415386], ['defensive', 2.937929343717294], ['happy', 3.0859502270161503], ['sorry', 3.4051545460109156], ['nervous', 3.4621762953600244], ['thanks', 3.542118655604697], ['calm', 4.0148121002566866], ['careless', 4.615566972001442], ['angry', 4.76978569726161]]\n",
      "==========\n",
      "[['happy', 2.1690919066737218], ['aggressive', 2.452990807358527], ['cautious', 2.7378432195506437], ['thanks', 2.839298845299398], ['defensive', 3.149125447090036], ['calm', 3.293189459683663], ['sorry', 3.9337475845891237], ['nervous', 4.035429577630666], ['careless', 5.30696794483303], ['angry', 5.618949762559644]]\n",
      "**********\n",
      "[['aggressive', 1.619163323683165], ['cautious', 2.240207163876386], ['defensive', 2.4447340608538912], ['happy', 2.450822127514099], ['thanks', 2.8283229515391533], ['sorry', 3.1699141455473154], ['calm', 3.327062832757309], ['nervous', 3.372065242300316], ['careless', 4.52167762617307], ['angry', 4.924996438955697]]\n",
      "==========\n",
      "['Japan', 'troops', 'islands']\n",
      "Japan to base troops near islands\n",
      "\n",
      "==========\n",
      "[['aggressive', 1.4909556992814346], ['cautious', 1.8681248307228646], ['defensive', 2.1163859585371685], ['happy', 2.2827521457044466], ['thanks', 2.5529810286240084], ['sorry', 3.023237503947465], ['calm', 3.034397215240356], ['nervous', 3.384411670655635], ['careless', 4.408595795558896], ['angry', 4.978392810226375]]\n",
      "**********\n",
      "[['aggressive', 2.184520594065688], ['happy', 2.654001334579026], ['cautious', 2.820663168486701], ['defensive', 3.0528403688903176], ['thanks', 3.1371539030256588], ['nervous', 3.5122459100944545], ['sorry', 3.5708712459683167], ['calm', 3.6709118691676097], ['careless', 4.888342803981467], ['angry', 5.079369411030752]]\n",
      "==========\n",
      "[['happy', 2.352937003069435], ['aggressive', 2.7970780523449292], ['cautious', 3.1208905604844266], ['thanks', 3.139955726564511], ['defensive', 3.54141603733673], ['calm', 3.547496878171973], ['sorry', 4.304409877124207], ['nervous', 4.366679214342808], ['careless', 5.650278778562676], ['angry', 5.876702390967383]]\n",
      "**********\n",
      "[['aggressive', 1.8842050845730582], ['cautious', 2.4749275672289492], ['happy', 2.598497098989888], ['defensive', 2.6647312423823006], ['thanks', 2.898786283587573], ['nervous', 3.1476218021055695], ['sorry', 3.1706238471954333], ['calm', 3.4798667383579347], ['careless', 4.521784081196637], ['angry', 4.8282341363713]]\n",
      "==========\n",
      "['explosions', 'rock', 'city']\n",
      "Twin explosions rock Kenyan city\n",
      "\n",
      "==========\n",
      "[['aggressive', 1.434042995596511], ['nervous', 2.6356766075456], ['sorry', 2.7524453776902544], ['defensive', 2.8079241475176357], ['cautious', 3.1142732557062898], ['angry', 3.731925990363605], ['careless', 3.756771630952039], ['happy', 3.9133532358837435], ['thanks', 4.131617249635986], ['calm', 4.664251953069934]]\n",
      "**********\n",
      "[['aggressive', 0.8494222587897312], ['defensive', 1.2069394705048098], ['cautious', 1.589625323464166], ['sorry', 1.6056988370987222], ['nervous', 2.007884927062955], ['thanks', 2.804968378568706], ['careless', 3.0735602584569595], ['happy', 3.131723003197847], ['calm', 3.4230109274075735], ['angry', 3.9019616174672374]]\n",
      "==========\n",
      "[['aggressive', 0.6143618288854615], ['defensive', 1.988399718309826], ['sorry', 2.0744001083585633], ['nervous', 2.1964633760318524], ['cautious', 2.3602382043523074], ['careless', 3.285896377368786], ['happy', 3.5011751237546447], ['thanks', 3.5176275061981994], ['angry', 3.651768371502363], ['calm', 4.077953754105501]]\n",
      "**********\n",
      "[['aggressive', 1.1441680557597207], ['defensive', 1.4171378348366641], ['cautious', 1.7131649797945774], ['sorry', 1.7302339257701573], ['nervous', 2.0180901415923027], ['thanks', 2.8000866034180754], ['happy', 3.139215674326436], ['careless', 3.1713419131276432], ['calm', 3.4368786728859977], ['angry', 3.963465577212385]]\n",
      "==========\n",
      "['Releases', 'U.S.', 'U.S.']\n",
      "Releases of oil from U.S. emergency reserve\n",
      "\n",
      "==========\n",
      "[['happy', 1.6505951595696156], ['thanks', 2.5780507375598662], ['calm', 2.9195631155254262], ['cautious', 2.964956647449573], ['aggressive', 3.170614286629703], ['defensive', 3.598528002431327], ['sorry', 4.595433449011262], ['nervous', 4.778352010914094], ['careless', 6.025575534124837], ['angry', 6.445973591348974]]\n",
      "**********\n",
      "[['happy', 1.6350087805303646], ['thanks', 2.714964347261313], ['calm', 2.9238266821750725], ['cautious', 3.439991682766562], ['aggressive', 3.8825577378081584], ['defensive', 4.182207224798359], ['sorry', 5.273091712675591], ['nervous', 5.48267101783163], ['careless', 6.723751274339021], ['angry', 7.180083377740302]]\n",
      "==========\n",
      "[['happy', 2.3426611448415606], ['aggressive', 2.5865510794292605], ['cautious', 2.926998320335307], ['thanks', 2.98528428371779], ['defensive', 3.311758652738716], ['calm', 3.467461620312799], ['sorry', 3.994943649033072], ['nervous', 3.9993178452749545], ['careless', 5.352541212430122], ['angry', 5.594581844339719]]\n",
      "**********\n",
      "[['happy', 1.7580565304414408], ['thanks', 2.824809358862495], ['calm', 3.0298550910510724], ['cautious', 3.285143079072102], ['aggressive', 3.563514026729804], ['defensive', 3.9611780321645025], ['sorry', 5.055134521409778], ['nervous', 5.313053549239233], ['careless', 6.47499929821201], ['angry', 6.911567942294251]]\n",
      "==========\n",
      "['Russia', 'bars', 'airlines']\n",
      "Russia bars airlines from Syria due to risk of ground fire\n",
      "\n",
      "==========\n",
      "[['aggressive', 1.441604271648636], ['cautious', 2.368318780025913], ['defensive', 2.4271507824167182], ['happy', 2.7806508634972267], ['sorry', 2.895382264987516], ['nervous', 2.938900033055839], ['thanks', 3.050326877446888], ['calm', 3.611431593148491], ['careless', 4.217590682817057], ['angry', 4.521802281019623]]\n",
      "**********\n",
      "[['aggressive', 0.581911350567522], ['sorry', 1.6284871252952748], ['defensive', 1.8200286878940795], ['nervous', 1.9163209143988482], ['cautious', 2.445604929693], ['careless', 2.7326428346263034], ['angry', 3.249107000263276], ['thanks', 3.808939283911499], ['happy', 3.9408883043714837], ['calm', 4.350337304973515]]\n",
      "==========\n",
      "[['aggressive', 2.24220482044699], ['happy', 2.4387234801563014], ['cautious', 2.71590707058862], ['thanks', 2.949015490167969], ['defensive', 3.0182702891329045], ['calm', 3.4729572834536753], ['nervous', 3.6322920488062285], ['sorry', 3.6343252277539246], ['careless', 4.98506686056487], ['angry', 5.242718458552196]]\n",
      "**********\n",
      "[['aggressive', 1.293868205041396], ['defensive', 1.536812426317657], ['cautious', 1.759709643050965], ['sorry', 1.8624741009763823], ['nervous', 2.100748232170746], ['thanks', 2.7604698986599825], ['happy', 3.0922223981734223], ['careless', 3.2887289801559287], ['calm', 3.4043926810264407], ['angry', 4.056560301000595]]\n",
      "==========\n",
      "['Stomp', 'Blank', 'Blank']\n",
      "Stomp the Yard\" has winning moves in its weekend debut\n",
      "\n",
      "==========\n",
      "[['happy', 1.6008435516335784], ['cautious', 1.9516480315965392], ['thanks', 2.084017607011767], ['aggressive', 2.137392520527042], ['defensive', 2.4985302679990724], ['calm', 2.5603123323156756], ['sorry', 3.55013017393055], ['nervous', 3.874911012585122], ['careless', 4.99934467893406], ['angry', 5.593942966231155]]\n",
      "**********\n",
      "[['nervous', 1.1473980743584706], ['sorry', 1.2654349399359797], ['aggressive', 1.4904973314648422], ['defensive', 1.9203167384640147], ['careless', 2.461451892367577], ['cautious', 2.5260992036724854], ['angry', 3.1377211230799684], ['thanks', 3.7044549463623535], ['happy', 4.089677617702497], ['calm', 4.339479306167137]]\n",
      "==========\n",
      "[['happy', 2.008200801874229], ['aggressive', 2.0856781212846367], ['cautious', 2.2346488003017777], ['thanks', 2.434413542524356], ['defensive', 2.6407319247392356], ['calm', 2.9706357146916393], ['sorry', 3.451437062677998], ['nervous', 3.6025900076411124], ['careless', 4.870397746812297], ['angry', 5.322302860672704]]\n",
      "**********\n",
      "[['cautious', 1.6230242221390014], ['aggressive', 1.70661865456508], ['defensive', 1.7468459186406178], ['thanks', 2.305149406389701], ['sorry', 2.4029125974674708], ['happy', 2.6138176908702824], ['nervous', 2.672348395192791], ['calm', 2.958667232296574], ['careless', 3.845964273676511], ['angry', 4.631207901256774]]\n",
      "==========\n",
      "['Gunmen', 'protest', 'ministry']\n",
      "Gunmen stage protest outside Libyan justice ministry\n",
      "\n",
      "==========\n",
      "[['aggressive', 3.139395274032203], ['defensive', 4.282482795031208], ['cautious', 4.304907611385064], ['happy', 4.341495400363816], ['nervous', 4.554155346023897], ['sorry', 4.576515849185745], ['thanks', 4.949295391585222], ['calm', 5.318263896351929], ['angry', 5.331528387378917], ['careless', 5.515799428187292]]\n",
      "**********\n",
      "[['aggressive', 3.139395274032203], ['defensive', 4.282482795031208], ['cautious', 4.304907611385064], ['happy', 4.341495400363816], ['nervous', 4.554155346023897], ['sorry', 4.576515849185745], ['thanks', 4.949295391585222], ['calm', 5.318263896351929], ['angry', 5.331528387378917], ['careless', 5.515799428187292]]\n",
      "==========\n",
      "[['aggressive', 1.7910578044718803], ['defensive', 2.7508307592194328], ['cautious', 2.757371116790452], ['happy', 3.2159516402849944], ['sorry', 3.32416710044325], ['thanks', 3.5784489956881047], ['nervous', 3.5855740816398796], ['calm', 3.989770124765906], ['careless', 4.487222594796822], ['angry', 4.798380813440204]]\n",
      "**********\n",
      "[['aggressive', 2.580801566555957], ['happy', 3.1669942634681707], ['cautious', 3.459644147349765], ['defensive', 3.635491459043064], ['thanks', 3.8099230962346966], ['nervous', 3.947098235568834], ['sorry', 4.065739556158514], ['calm', 4.2770671943663965], ['angry', 5.2509270794274014], ['careless', 5.275039362380845]]\n",
      "==========\n"
     ]
    }
   ],
   "source": [
    "for i in range(0, 20):\n",
    "    e = events[i]\n",
    "    print(e)\n",
    "    print(sent_svo[e])\n",
    "    print('==========')\n",
    "    print(epa[e][1])\n",
    "    print('**********')\n",
    "    print(epa[e][3])\n",
    "    print('==========')\n",
    "    print(general[e][1])\n",
    "    print('**********')\n",
    "    print(general[e][3])\n",
    "    print('==========')"
   ]
  },
  {
   "cell_type": "code",
   "execution_count": 19,
   "metadata": {},
   "outputs": [
    {
     "data": {
      "text/plain": [
       "[[['defensive', 1.2365683002184016],\n",
       "  ['sorry', 1.6298848697923558],\n",
       "  ['cautious', 1.8757824854011094],\n",
       "  ['aggressive', 2.3539627730154873],\n",
       "  ['nervous', 2.6138005068298926],\n",
       "  ['careless', 2.7241179711438543],\n",
       "  ['thanks', 3.1563439103167115],\n",
       "  ['calm', 3.634831116312256],\n",
       "  ['happy', 4.0226868881612],\n",
       "  ['angry', 4.331559821613977]],\n",
       " [['sorry', 0.9693750630052828],\n",
       "  ['careless', 1.1188894412494412],\n",
       "  ['nervous', 1.8181196222209266],\n",
       "  ['defensive', 2.135389242108778],\n",
       "  ['aggressive', 2.477632123447923],\n",
       "  ['angry', 2.9343157964543494],\n",
       "  ['cautious', 3.116357142984863],\n",
       "  ['thanks', 4.607817240043436],\n",
       "  ['calm', 5.115014242601914],\n",
       "  ['happy', 5.286437047772229]],\n",
       " [['defensive', 1.3633516977293014],\n",
       "  ['sorry', 1.4578936637649693],\n",
       "  ['cautious', 2.250939146673451],\n",
       "  ['careless', 2.2768776755192492],\n",
       "  ['aggressive', 2.279064555964666],\n",
       "  ['nervous', 2.6223730121773867],\n",
       "  ['thanks', 3.744133300698394],\n",
       "  ['angry', 3.987256712962253],\n",
       "  ['calm', 4.167139198214014],\n",
       "  ['happy', 4.495665832172642]],\n",
       " [['nervous', 1.7056469869066542],\n",
       "  ['careless', 2.448180695988962],\n",
       "  ['sorry', 2.454165575266125],\n",
       "  ['angry', 2.6758055909049685],\n",
       "  ['aggressive', 3.4559970539542917],\n",
       "  ['defensive', 3.721003110787727],\n",
       "  ['cautious', 4.411994402323398],\n",
       "  ['thanks', 5.499238502446865],\n",
       "  ['happy', 5.992499181665244],\n",
       "  ['calm', 6.127124629812074]]]"
      ]
     },
     "execution_count": 19,
     "metadata": {},
     "output_type": "execute_result"
    }
   ],
   "source": [
    "epa[\"['victim', 'pay', 'crash']\"]"
   ]
  },
  {
   "cell_type": "code",
   "execution_count": 18,
   "metadata": {},
   "outputs": [
    {
     "data": {
      "text/plain": [
       "[[['sorry', 0.6176859242258568],\n",
       "  ['nervous', 1.0936316255975833],\n",
       "  ['aggressive', 1.4186400116962852],\n",
       "  ['defensive', 1.5689195329152028],\n",
       "  ['careless', 1.97387151130196],\n",
       "  ['cautious', 2.3856042215988995],\n",
       "  ['angry', 3.009925478341264],\n",
       "  ['thanks', 3.7521242261175636],\n",
       "  ['happy', 4.2476396080398615],\n",
       "  ['calm', 4.351860887558511]],\n",
       " [['careless', 0.7099013528408343],\n",
       "  ['sorry', 0.8885222290888084],\n",
       "  ['nervous', 1.478087295163394],\n",
       "  ['defensive', 2.3490454240490406],\n",
       "  ['aggressive', 2.3923830635618364],\n",
       "  ['angry', 2.4409240807286032],\n",
       "  ['cautious', 3.3457191528125727],\n",
       "  ['thanks', 4.855324357700488],\n",
       "  ['calm', 5.3869673871167425],\n",
       "  ['happy', 5.4469892334127685]],\n",
       " [['aggressive', 0.6969180592845363],\n",
       "  ['defensive', 0.9859033082177949],\n",
       "  ['sorry', 1.068967888784611],\n",
       "  ['nervous', 1.734571026418925],\n",
       "  ['cautious', 1.7474733544571568],\n",
       "  ['careless', 2.5399289482527547],\n",
       "  ['thanks', 3.1845923985457785],\n",
       "  ['angry', 3.5242584718620376],\n",
       "  ['happy', 3.588502322318633],\n",
       "  ['calm', 3.762205276076089]],\n",
       " [['nervous', 0.7510319727091084],\n",
       "  ['sorry', 1.0222231504263444],\n",
       "  ['careless', 1.528387602920137],\n",
       "  ['aggressive', 2.2381446151493485],\n",
       "  ['defensive', 2.4225378985779535],\n",
       "  ['angry', 2.464039666846632],\n",
       "  ['cautious', 3.251759353337581],\n",
       "  ['thanks', 4.5640675708345935],\n",
       "  ['happy', 5.089557986645855],\n",
       "  ['calm', 5.169636278411122]]]"
      ]
     },
     "execution_count": 18,
     "metadata": {},
     "output_type": "execute_result"
    }
   ],
   "source": [
    "general[\"['victim', 'pay', 'crash']\"]"
   ]
  },
  {
   "cell_type": "code",
   "execution_count": 18,
   "metadata": {},
   "outputs": [
    {
     "data": {
      "text/plain": [
       "[[['defensive', 1.1238764902986542],\n",
       "  ['aggressive', 1.448832175561719],\n",
       "  ['cautious', 1.686749830169496],\n",
       "  ['sorry', 1.9926029503352094],\n",
       "  ['nervous', 2.9323748476374782],\n",
       "  ['careless', 3.1506628835203534],\n",
       "  ['thanks', 3.1692769617878884],\n",
       "  ['happy', 3.5636880109431037],\n",
       "  ['calm', 3.5704127955455744],\n",
       "  ['angry', 4.322712040063483]],\n",
       " [['sorry', 0.9032006142308753],\n",
       "  ['aggressive', 0.943740350052857],\n",
       "  ['defensive', 1.0651906113284193],\n",
       "  ['nervous', 1.575643953205575],\n",
       "  ['cautious', 1.8552392516042662],\n",
       "  ['careless', 2.393964287428972],\n",
       "  ['thanks', 3.2713505944115906],\n",
       "  ['angry', 3.4295811512088084],\n",
       "  ['happy', 3.729111978803178],\n",
       "  ['calm', 3.8591601783476586]],\n",
       " [['aggressive', 1.0723044112712599],\n",
       "  ['sorry', 1.1222020499471974],\n",
       "  ['defensive', 1.3827993956060196],\n",
       "  ['nervous', 1.4622317651879095],\n",
       "  ['cautious', 2.0167187598526612],\n",
       "  ['careless', 2.5419917721675342],\n",
       "  ['thanks', 3.297393693216187],\n",
       "  ['angry', 3.411909008565386],\n",
       "  ['happy', 3.708962681838396],\n",
       "  ['calm', 3.915583823550519]],\n",
       " [['careless', 1.264265615466039],\n",
       "  ['sorry', 1.9989699585375273],\n",
       "  ['nervous', 2.2520956728399195],\n",
       "  ['angry', 2.875866059195964],\n",
       "  ['defensive', 3.289327241965071],\n",
       "  ['aggressive', 3.5849259537329194],\n",
       "  ['cautious', 4.203379102188296],\n",
       "  ['thanks', 5.5764079180220145],\n",
       "  ['calm', 6.0982831797907595],\n",
       "  ['happy', 6.3180701505652275]]]"
      ]
     },
     "execution_count": 18,
     "metadata": {},
     "output_type": "execute_result"
    }
   ],
   "source": [
    "epa[\"['family', 'crash', 'death']\"]"
   ]
  },
  {
   "cell_type": "code",
   "execution_count": 20,
   "metadata": {},
   "outputs": [
    {
     "data": {
      "text/plain": [
       "[[['sorry', 0.42177931916743033],\n",
       "  ['aggressive', 1.2295716196088946],\n",
       "  ['defensive', 1.287680376433092],\n",
       "  ['nervous', 1.4217440874499914],\n",
       "  ['careless', 1.8659241964238036],\n",
       "  ['cautious', 2.240857321353003],\n",
       "  ['angry', 3.0707014501352172],\n",
       "  ['thanks', 3.746462052774537],\n",
       "  ['happy', 4.243490481587838],\n",
       "  ['calm', 4.301250370396779]],\n",
       " [['sorry', 0.8407593253814307],\n",
       "  ['nervous', 0.9753962787583749],\n",
       "  ['aggressive', 1.4639357719933186],\n",
       "  ['defensive', 1.76060371047725],\n",
       "  ['careless', 2.079779883006786],\n",
       "  ['cautious', 2.5105372942467326],\n",
       "  ['angry', 2.954634711539217],\n",
       "  ['thanks', 3.8138792557057934],\n",
       "  ['happy', 4.266824117338893],\n",
       "  ['calm', 4.429226192936327]],\n",
       " [['aggressive', 0.743732907181338],\n",
       "  ['sorry', 1.085832447704189],\n",
       "  ['defensive', 1.100342065739798],\n",
       "  ['nervous', 1.6464706421785964],\n",
       "  ['cautious', 1.8080024474490202],\n",
       "  ['careless', 2.5570713604182282],\n",
       "  ['thanks', 3.1956691374302917],\n",
       "  ['angry', 3.490120880442728],\n",
       "  ['happy', 3.5899931486758008],\n",
       "  ['calm', 3.7887983674089747]],\n",
       " [['sorry', 0.621212413563462],\n",
       "  ['aggressive', 1.136942328568984],\n",
       "  ['nervous', 1.1625376195894574],\n",
       "  ['defensive', 1.4455634565296986],\n",
       "  ['careless', 2.0462266468914487],\n",
       "  ['cautious', 2.274811137382236],\n",
       "  ['angry', 3.0242074856018597],\n",
       "  ['thanks', 3.679095261075176],\n",
       "  ['happy', 4.123327021606165],\n",
       "  ['calm', 4.272960678976164]]]"
      ]
     },
     "execution_count": 20,
     "metadata": {},
     "output_type": "execute_result"
    }
   ],
   "source": [
    "general[\"['family', 'crash', 'death']\"]"
   ]
  },
  {
   "cell_type": "code",
   "execution_count": 24,
   "metadata": {},
   "outputs": [
    {
     "data": {
      "text/plain": [
       "[[['happy', 2.0184367979401214],\n",
       "  ['thanks', 2.6447244890163453],\n",
       "  ['cautious', 3.0278153017573777],\n",
       "  ['calm', 3.103802608462767],\n",
       "  ['aggressive', 3.188561001425092],\n",
       "  ['defensive', 3.5880542868361784],\n",
       "  ['sorry', 4.400493462149722],\n",
       "  ['nervous', 4.442138989572255],\n",
       "  ['careless', 5.811755716768772],\n",
       "  ['angry', 6.194713033308307]],\n",
       " [['thanks', 1.576519153214245],\n",
       "  ['cautious', 1.8329099739827917],\n",
       "  ['happy', 1.9301209721307855],\n",
       "  ['calm', 2.1906009825554213],\n",
       "  ['defensive', 2.4411834604667595],\n",
       "  ['aggressive', 2.745443570972814],\n",
       "  ['sorry', 3.448599678658058],\n",
       "  ['nervous', 3.7997823024231954],\n",
       "  ['careless', 4.896256886509494],\n",
       "  ['angry', 5.777251482906819]],\n",
       " [['happy', 1.8532348866654371],\n",
       "  ['thanks', 2.120781192617884],\n",
       "  ['cautious', 2.3426827621133586],\n",
       "  ['calm', 2.6804163602454087],\n",
       "  ['aggressive', 2.6834647261171565],\n",
       "  ['defensive', 2.8873227697061146],\n",
       "  ['sorry', 3.746858021910187],\n",
       "  ['nervous', 3.893894339569125],\n",
       "  ['careless', 5.187305709234714],\n",
       "  ['angry', 5.756030299274777]],\n",
       " [['happy', 2.5052699421659983],\n",
       "  ['thanks', 2.865915997038912],\n",
       "  ['aggressive', 2.8664223763951986],\n",
       "  ['cautious', 2.956880307738132],\n",
       "  ['defensive', 3.3444403327451875],\n",
       "  ['calm', 3.417411356710083],\n",
       "  ['nervous', 3.8508623815170715],\n",
       "  ['sorry', 3.927250480055295],\n",
       "  ['careless', 5.284034190211712],\n",
       "  ['angry', 5.608526306121547]]]"
      ]
     },
     "execution_count": 24,
     "metadata": {},
     "output_type": "execute_result"
    }
   ],
   "source": [
    "epa[\"['opera', 'loving', 'delivers']\"]"
   ]
  },
  {
   "cell_type": "code",
   "execution_count": 23,
   "metadata": {},
   "outputs": [
    {
     "data": {
      "text/plain": [
       "[[['thanks', 2.070129196233261],\n",
       "  ['sorry', 2.145873870428803],\n",
       "  ['careless', 2.6582817819398814],\n",
       "  ['cautious', 2.6704549731950125],\n",
       "  ['angry', 2.7118791706895857],\n",
       "  ['nervous', 2.7809145548112446],\n",
       "  ['happy', 2.7966919998691977],\n",
       "  ['calm', 2.7974696210170906],\n",
       "  ['defensive', 2.8573076007569718],\n",
       "  ['aggressive', 3.1450535922419562]],\n",
       " [['thanks', 2.0683879815697472],\n",
       "  ['sorry', 2.224691341685626],\n",
       "  ['happy', 2.7086995520836705],\n",
       "  ['careless', 2.7787492263681015],\n",
       "  ['cautious', 2.8061193210520043],\n",
       "  ['angry', 2.828290046163],\n",
       "  ['calm', 2.85286480146855],\n",
       "  ['nervous', 2.9159122874974135],\n",
       "  ['defensive', 2.9897538401382238],\n",
       "  ['aggressive', 3.288867219943509]],\n",
       " [['thanks', 2.0232565586938893],\n",
       "  ['sorry', 2.1279132921541724],\n",
       "  ['careless', 2.661476724483416],\n",
       "  ['cautious', 2.6808901248004053],\n",
       "  ['angry', 2.715604528121776],\n",
       "  ['happy', 2.729631274616077],\n",
       "  ['calm', 2.7729750443209937],\n",
       "  ['nervous', 2.7926052397847956],\n",
       "  ['defensive', 2.864536291400381],\n",
       "  ['aggressive', 3.160521946897272]],\n",
       " [['thanks', 2.0567278824223636],\n",
       "  ['sorry', 2.1796449356596526],\n",
       "  ['careless', 2.7170462388390297],\n",
       "  ['happy', 2.7256367895067455],\n",
       "  ['cautious', 2.742984253187566],\n",
       "  ['angry', 2.7613655368602914],\n",
       "  ['calm', 2.802191951254557],\n",
       "  ['nervous', 2.849636451835646],\n",
       "  ['defensive', 2.931321627230763],\n",
       "  ['aggressive', 3.223451906177147]]]"
      ]
     },
     "execution_count": 23,
     "metadata": {},
     "output_type": "execute_result"
    }
   ],
   "source": [
    "github[\"['opera', 'loving', 'delivers']\"]"
   ]
  },
  {
   "cell_type": "code",
   "execution_count": null,
   "metadata": {},
   "outputs": [],
   "source": []
  }
 ],
 "metadata": {
  "kernelspec": {
   "display_name": "Python 3",
   "language": "python",
   "name": "python3"
  },
  "language_info": {
   "codemirror_mode": {
    "name": "ipython",
    "version": 3
   },
   "file_extension": ".py",
   "mimetype": "text/x-python",
   "name": "python",
   "nbconvert_exporter": "python",
   "pygments_lexer": "ipython3",
   "version": "3.5.2"
  }
 },
 "nbformat": 4,
 "nbformat_minor": 2
}
