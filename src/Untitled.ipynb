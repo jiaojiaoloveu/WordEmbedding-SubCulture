{
 "cells": [
  {
   "cell_type": "code",
   "execution_count": 3,
   "metadata": {},
   "outputs": [],
   "source": [
    "import json"
   ]
  },
  {
   "cell_type": "code",
   "execution_count": 4,
   "metadata": {},
   "outputs": [],
   "source": [
    "warriner = {}\n",
    "with open('../data/epa/Ratings_Warriner_et_al_epa_test') as fp:\n",
    "    data = json.load(fp)\n",
    "    for w in data.keys():\n",
    "        epa = data[w]\n",
    "        warriner[w] = [round(d, 3) for d in epa]"
   ]
  },
  {
   "cell_type": "code",
   "execution_count": 5,
   "metadata": {},
   "outputs": [],
   "source": [
    "google = {}\n",
    "with open('../result/epa_expansion/nn/nn_result_google_all') as fp:\n",
    "    google = json.load(fp)\n",
    "    for w in google.keys():\n",
    "        google[w] = [round(d, 3) for d in google[w]]"
   ]
  },
  {
   "cell_type": "code",
   "execution_count": 6,
   "metadata": {},
   "outputs": [],
   "source": [
    "wlist = set(warriner.keys()) & set(google.keys())"
   ]
  },
  {
   "cell_type": "code",
   "execution_count": 7,
   "metadata": {},
   "outputs": [],
   "source": [
    "words_epa = {}\n",
    "for w in wlist:\n",
    "    words_epa[w] = abs(warriner[w][0] - google[w][0]) + abs(warriner[w][1] - google[w][1]) + \\\n",
    "    abs(warriner[w][2] - google[w][2])"
   ]
  },
  {
   "cell_type": "code",
   "execution_count": 11,
   "metadata": {},
   "outputs": [],
   "source": [
    "from collections import OrderedDict\n",
    "ordered_words_epa = OrderedDict(sorted(words_epa.items(), key=lambda t: t[1]))\n",
    "ordered_wlist = list(ordered_words_epa.keys())"
   ]
  },
  {
   "cell_type": "code",
   "execution_count": 17,
   "metadata": {},
   "outputs": [
    {
     "name": "stdout",
     "output_type": "stream",
     "text": [
      "jelly & [1.189, 1.231, -1.48] & [1.242, 1.17, -1.535] \\\\\n",
      "limo & [1.473, 1.507, -0.757] & [1.47, 1.542, -0.614] \\\\\n",
      "herring & [0.006, 0.539, -1.869] & [0.031, 0.47, -1.781] \\\\\n",
      "exorcism & [-2.064, -1.493, 1.758] & [-2.025, -1.588, 1.706] \\\\\n",
      "nest & [0.893, 0.982, -1.869] & [0.827, 1.072, -1.833] \\\\\n",
      "four & [0.432, 1.189, -1.813] & [0.465, 1.245, -1.922] \\\\\n",
      "sprite & [1.13, 1.231, -1.202] & [1.121, 1.413, -1.213] \\\\\n",
      "pyramid & [0.929, 1.272, -1.688] & [0.777, 1.256, -1.652] \\\\\n",
      "prone & [-0.231, 0.843, -1.41] & [-0.25, 0.71, -1.357] \\\\\n",
      "art & [2.313, 1.701, -0.299] & [2.234, 1.685, -0.415] \\\\\n"
     ]
    }
   ],
   "source": [
    "for w in ordered_wlist[20: 30]:\n",
    "    print('%s & %s & %s \\\\\\\\' % (w, warriner[w], google[w]))"
   ]
  },
  {
   "cell_type": "code",
   "execution_count": 18,
   "metadata": {},
   "outputs": [],
   "source": [
    "mae = [0, 0, 0]\n",
    "for w in wlist:\n",
    "    for i in range(0, 3):\n",
    "        mae[i] += abs(warriner[w][i] - google[w][i])"
   ]
  },
  {
   "cell_type": "code",
   "execution_count": 19,
   "metadata": {},
   "outputs": [
    {
     "data": {
      "text/plain": [
       "13790"
      ]
     },
     "execution_count": 19,
     "metadata": {},
     "output_type": "execute_result"
    }
   ],
   "source": [
    "len(wlist)"
   ]
  },
  {
   "cell_type": "code",
   "execution_count": 20,
   "metadata": {},
   "outputs": [
    {
     "name": "stdout",
     "output_type": "stream",
     "text": [
      "[0.63085751 0.7064926  0.74357505]\n"
     ]
    }
   ],
   "source": [
    "import numpy as np\n",
    "print(np.array(mae) / len(wlist))"
   ]
  },
  {
   "cell_type": "code",
   "execution_count": null,
   "metadata": {},
   "outputs": [],
   "source": []
  }
 ],
 "metadata": {
  "kernelspec": {
   "display_name": "Python 3",
   "language": "python",
   "name": "python3"
  },
  "language_info": {
   "codemirror_mode": {
    "name": "ipython",
    "version": 3
   },
   "file_extension": ".py",
   "mimetype": "text/x-python",
   "name": "python",
   "nbconvert_exporter": "python",
   "pygments_lexer": "ipython3",
   "version": "3.5.2"
  }
 },
 "nbformat": 4,
 "nbformat_minor": 2
}
