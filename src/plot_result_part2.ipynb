{
 "cells": [
  {
   "cell_type": "code",
   "execution_count": 1,
   "metadata": {},
   "outputs": [],
   "source": [
    "import numpy as np\n",
    "import seaborn as sns\n",
    "import os\n",
    "import matplotlib.pyplot as plt\n",
    "import json\n",
    "import pandas as pd"
   ]
  },
  {
   "cell_type": "code",
   "execution_count": 2,
   "metadata": {},
   "outputs": [
    {
     "data": {
      "text/plain": [
       "'/home/jyuwei/code/WordEmbedding-SubCulture/src'"
      ]
     },
     "execution_count": 2,
     "metadata": {},
     "output_type": "execute_result"
    }
   ],
   "source": [
    "%pwd"
   ]
  },
  {
   "cell_type": "code",
   "execution_count": 13,
   "metadata": {},
   "outputs": [
    {
     "name": "stdout",
     "output_type": "stream",
     "text": [
      "            mae_e     mae_p     mae_a\n",
      "epsilon                              \n",
      "0.01     0.721666  0.752657  0.752997\n",
      "0.05     0.719983  0.752942  0.751678\n",
      "0.10     0.717738  0.753379  0.752319\n",
      "0.20     0.719394  0.751701  0.746983\n",
      "0.50     0.717016  0.750331  0.745239\n"
     ]
    },
    {
     "data": {
      "image/png": "[encoded data removed]",
      "text/plain": [
       "<Figure size 432x288 with 1 Axes>"
      ]
     },
     "metadata": {},
     "output_type": "display_data"
    }
   ],
   "source": [
    "def plot_svr():\n",
    "    with open('../result/epa_expansion/svr/result_grid_search_seed_8500_eval_1000_epa_1.0', 'r') as fp:\n",
    "        data = json.load(fp)\n",
    "    result = []\n",
    "    for item in data:\n",
    "        result.append([\n",
    "            item['epsilon'],\n",
    "            item['metrics'][0][0],\n",
    "            item['metrics'][0][1],\n",
    "            item['metrics'][0][2]\n",
    "        ])\n",
    "    df = pd.DataFrame(data=result, columns=['epsilon', 'mae_e', 'mae_p', 'mae_a']).set_index('epsilon')\n",
    "    print(df)\n",
    "    plt.suptitle('SVR Epsilon Tuning')\n",
    "    sns.lineplot(data=df, linewidth=2.5, dashes=False, markers=True)\n",
    "plot_svr()"
   ]
  },
  {
   "cell_type": "code",
   "execution_count": 17,
   "metadata": {},
   "outputs": [
    {
     "name": "stdout",
     "output_type": "stream",
     "text": [
      "epoch                 5                   10                  50   \\\n",
      "batch                                                               \n",
      "5      [0.68, 0.77, 0.75]   [0.7, 0.74, 0.77]  [0.74, 0.85, 0.88]   \n",
      "10     [0.69, 0.78, 0.75]  [0.67, 0.77, 0.75]   [0.7, 0.83, 0.91]   \n",
      "50      [0.7, 0.77, 0.76]   [0.7, 0.76, 0.77]  [0.71, 0.79, 0.79]   \n",
      "100    [0.72, 0.77, 0.77]  [0.69, 0.75, 0.77]  [0.72, 0.78, 0.79]   \n",
      "\n",
      "epoch                 100                 200  \n",
      "batch                                          \n",
      "5      [0.79, 0.87, 0.91]  [0.81, 0.88, 0.95]  \n",
      "10     [0.79, 0.88, 0.91]  [0.77, 0.89, 0.96]  \n",
      "50     [0.79, 0.87, 0.93]   [0.8, 0.95, 0.94]  \n",
      "100    [0.76, 0.85, 0.86]  [0.84, 0.91, 0.93]  \n"
     ]
    }
   ],
   "source": [
    "def plot_nn():\n",
    "    with open('../result/epa_expansion/nn/result_grid_search_seed_8500_eval_1000_epa_1.0', 'r') as fp:\n",
    "        data = json.load(fp)\n",
    "    result = []\n",
    "    for item in data:\n",
    "        result.append([\n",
    "            item['epoch'],\n",
    "            item['batch'],\n",
    "            [round(f, 2) for f in item['mae'][0]]\n",
    "        ])\n",
    "    df = pd.DataFrame(data=result, columns=['epoch', 'batch', 'mae']).pivot('batch', 'epoch', 'mae')\n",
    "    print(df)\n",
    "plot_nn()"
   ]
  },
  {
   "cell_type": "code",
   "execution_count": 19,
   "metadata": {},
   "outputs": [
    {
     "name": "stdout",
     "output_type": "stream",
     "text": [
      "enn                   0.4                    0.5                    0.6  \\\n",
      "exp                                                                       \n",
      "0.5  [0.854, 0.845, 0.91]  [0.764, 0.755, 0.799]   [0.767, 0.72, 0.781]   \n",
      "1.0  [0.853, 0.845, 0.91]  [0.763, 0.756, 0.798]   [0.766, 0.719, 0.78]   \n",
      "2.0  [0.852, 0.845, 0.91]  [0.761, 0.756, 0.796]  [0.763, 0.718, 0.778]   \n",
      "\n",
      "enn                    0.7                    0.8  \n",
      "exp                                                \n",
      "0.5  [0.848, 0.748, 0.829]  [0.925, 0.797, 0.871]  \n",
      "1.0  [0.847, 0.747, 0.828]   [0.924, 0.796, 0.87]  \n",
      "2.0  [0.844, 0.745, 0.826]  [0.922, 0.795, 0.869]  \n"
     ]
    }
   ],
   "source": [
    "def plot_graph():\n",
    "    with open('../result/epa_expansion/graph/result_grid_search_seed_8500_eval_1000_epa_1.0', 'r') as fp:\n",
    "        data = json.load(fp)\n",
    "    result = []\n",
    "    for item in data:\n",
    "        result.append([\n",
    "            item['enn'],\n",
    "            item['exp'],\n",
    "            [round(f, 3) for f in item['metrics']['mae']]\n",
    "        ])\n",
    "    df = pd.DataFrame(data=result, columns=['enn', 'exp', 'mae']).pivot('exp', 'enn', 'mae')\n",
    "    print(df)\n",
    "plot_graph()"
   ]
  },
  {
   "cell_type": "code",
   "execution_count": null,
   "metadata": {},
   "outputs": [],
   "source": []
  }
 ],
 "metadata": {
  "kernelspec": {
   "display_name": "Python 3",
   "language": "python",
   "name": "python3"
  },
  "language_info": {
   "codemirror_mode": {
    "name": "ipython",
    "version": 3
   },
   "file_extension": ".py",
   "mimetype": "text/x-python",
   "name": "python",
   "nbconvert_exporter": "python",
   "pygments_lexer": "ipython3",
   "version": "3.5.2"
  }
 },
 "nbformat": 4,
 "nbformat_minor": 2
}
