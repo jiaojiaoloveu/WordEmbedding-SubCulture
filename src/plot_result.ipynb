{
 "cells": [
  {
   "cell_type": "code",
   "execution_count": 3,
   "metadata": {},
   "outputs": [],
   "source": [
    "import numpy as np\n",
    "import seaborn as sns\n",
    "import os"
   ]
  },
  {
   "cell_type": "code",
   "execution_count": 18,
   "metadata": {},
   "outputs": [],
   "source": [
    "def read_eval(corpus, model, sg):\n",
    "    result = np.array([5, 5])\n",
    "    for size in range(200, 401, 50):\n",
    "        for mincount in range(0, 21, 5):\n",
    "            path = '../result/%s/%s_sg_%s_size_%s_mincount_%s' % (corpus, model, sg, size, mincount)\n",
    "            with open(path, 'r') as fp:\n",
    "                lines = fp.readlines()\n",
    "            sim_pear = lines[2].split(',')[0]\n",
    "            "
   ]
  },
  {
   "cell_type": "code",
   "execution_count": 19,
   "metadata": {},
   "outputs": [
    {
     "name": "stdout",
     "output_type": "stream",
     "text": [
      "((0.37210031173094255, 1.7885163992956818e-12), SpearmanrResult(correlation=0.37109310405909124, pvalue=2.0730574648888489e-12), 4.815864022662889)\n",
      "\n",
      "((0.37458798879271138, 4.594427938159722e-12), SpearmanrResult(correlation=0.37091593970360692, pvalue=7.6768163446425437e-12), 9.631728045325778)\n",
      "\n",
      "((0.39676697902341646, 5.1169634483497383e-13), SpearmanrResult(correlation=0.39191494799080612, pvalue=1.0333883259424117e-12), 13.031161473087819)\n",
      "\n",
      "((0.42283581744728593, 3.1840494322163289e-14), SpearmanrResult(correlation=0.41659158371760902, pvalue=8.2038311811892492e-14), 16.43059490084986)\n",
      "\n",
      "((0.43515160125976121, 3.9224209534027444e-14), SpearmanrResult(correlation=0.4373174424179847, pvalue=2.8387518557311996e-14), 22.096317280453256)\n",
      "\n",
      "((0.38900057121303966, 1.3897605102815745e-13), SpearmanrResult(correlation=0.3828997911898373, pvalue=3.5553450639160649e-13), 4.815864022662889)\n",
      "\n",
      "((0.37606919898638902, 3.7282108519589826e-12), SpearmanrResult(correlation=0.37442379133626397, pvalue=4.701765255687085e-12), 9.631728045325778)\n",
      "\n",
      "((0.40764388331716012, 1.014757980847408e-13), SpearmanrResult(correlation=0.40511640842551921, pvalue=1.4856942930548692e-13), 13.031161473087819)\n",
      "\n",
      "((0.41722408618694012, 7.4604962845434168e-14), SpearmanrResult(correlation=0.40474400844723796, pvalue=4.68630019164729e-13), 16.43059490084986)\n",
      "\n",
      "((0.441354397838914, 1.5441880563116942e-14), SpearmanrResult(correlation=0.43962555995241648, pvalue=2.0061867806390925e-14), 22.096317280453256)\n",
      "\n",
      "((0.3863105574294311, 2.107936426034981e-13), SpearmanrResult(correlation=0.37652634400783314, pvalue=9.2914719035733601e-13), 4.815864022662889)\n",
      "\n",
      "((0.37156141485981548, 7.0176965843674443e-12), SpearmanrResult(correlation=0.36194613129231057, pvalue=2.618522029437698e-11), 9.631728045325778)\n",
      "\n",
      "((0.3776036740607292, 7.6903293250667868e-12), SpearmanrResult(correlation=0.37402523858878195, pvalue=1.2512370437157335e-11), 13.031161473087819)\n",
      "\n",
      "((0.42214107265389328, 3.5410683031330501e-14), SpearmanrResult(correlation=0.42100845214513005, pvalue=4.2087309400344908e-14), 16.43059490084986)\n",
      "\n",
      "((0.4479180002265879, 5.6392716131181592e-15), SpearmanrResult(correlation=0.44534940292311548, pvalue=8.3858615901172072e-15), 22.096317280453256)\n",
      "\n",
      "((0.3663711727376619, 4.1138855379103222e-12), SpearmanrResult(correlation=0.36415353950026264, pvalue=5.6541529163810173e-12), 4.815864022662889)\n",
      "\n",
      "((0.38443804234210538, 1.1223939707393438e-12), SpearmanrResult(correlation=0.37562486731418604, pvalue=3.9697781763431432e-12), 9.631728045325778)\n",
      "\n",
      "((0.40585997233735055, 1.3285140006237813e-13), SpearmanrResult(correlation=0.4075609005887651, pvalue=1.0275918671735474e-13), 13.031161473087819)\n",
      "\n",
      "((0.42522772613670934, 2.2042559262297895e-14), SpearmanrResult(correlation=0.41998101254266518, pvalue=4.9199243483722797e-14), 16.43059490084986)\n",
      "\n",
      "((0.44275646357706983, 1.2474964315169349e-14), SpearmanrResult(correlation=0.44058400575858919, pvalue=1.735534408067855e-14), 22.096317280453256)\n",
      "\n",
      "((0.3705384250493603, 2.2481589159292095e-12), SpearmanrResult(correlation=0.35910799267546512, pvalue=1.1552279235283726e-11), 4.815864022662889)\n",
      "\n",
      "((0.37370105005113635, 5.2040352725526297e-12), SpearmanrResult(correlation=0.37064792490397824, pvalue=7.967897627877808e-12), 9.631728045325778)\n",
      "\n",
      "((0.42443754532068767, 7.4152107230104138e-15), SpearmanrResult(correlation=0.41010078352186968, pvalue=6.9834923620807274e-14), 13.031161473087819)\n",
      "\n",
      "((0.42014605261339832, 4.7982397820076408e-14), SpearmanrResult(correlation=0.41392295192030576, pvalue=1.2220857202629115e-13), 16.43059490084986)\n",
      "\n",
      "((0.43574940899974196, 3.5883432897071671e-14), SpearmanrResult(correlation=0.42805871744330348, pvalue=1.1129892796444268e-13), 22.096317280453256)\n",
      "\n"
     ]
    }
   ],
   "source": [
    "read_eval('github', 'word2vec', 0)"
   ]
  },
  {
   "cell_type": "code",
   "execution_count": null,
   "metadata": {},
   "outputs": [],
   "source": []
  }
 ],
 "metadata": {
  "kernelspec": {
   "display_name": "Python 3",
   "language": "python",
   "name": "python3"
  },
  "language_info": {
   "codemirror_mode": {
    "name": "ipython",
    "version": 3
   },
   "file_extension": ".py",
   "mimetype": "text/x-python",
   "name": "python",
   "nbconvert_exporter": "python",
   "pygments_lexer": "ipython3",
   "version": "3.5.2"
  }
 },
 "nbformat": 4,
 "nbformat_minor": 2
}
